{
 "cells": [
  {
   "cell_type": "markdown",
   "metadata": {},
   "source": [
    "# 3. ... Perceptron to perform ... using plain Swift"
   ]
  },
  {
   "cell_type": "markdown",
   "metadata": {},
   "source": [
    "**[Christopher Boone](https://github.com/cboone)**"
   ]
  },
  {
   "cell_type": "markdown",
   "metadata": {
    "execution": {
     "iopub.execute_input": "2020-05-26T22:43:03.325916Z",
     "iopub.status.busy": "2020-05-26T22:43:03.325403Z",
     "iopub.status.idle": "2020-05-26T22:43:03.513575Z",
     "shell.execute_reply": "2020-05-26T22:43:03.510424Z",
     "shell.execute_reply.started": "2020-05-26T22:43:03.325855Z"
    }
   },
   "source": [
    "[![Open In Colab](https://colab.research.google.com/assets/colab-badge.svg)](http://colab.research.google.com/github/cboone/swift-neural-intuition/blob/master/2-perceptron-exclusive-disjunction.ipynb)"
   ]
  },
  {
   "cell_type": "markdown",
   "metadata": {},
   "source": [
    "_Using the network from [part one](1-perceptron-inclusive-disjunction.ipynb)._"
   ]
  },
  {
   "cell_type": "markdown",
   "metadata": {},
   "source": [
    "The Perceptron we've created a simple neural network that:\n",
    "\n",
    "1. Takes an input vector $\\mathbf{x}_j \\in \\mathbb{R}^{n}$ where:\n",
    "    - $\\mathbf{x}_{j,i} \\in \\{0, 1\\}$\n",
    "    - $\\mathbf{x}_{j,0} = 0$\n",
    "    - $n = 3, n = m + 1$, where $m = 2$ is the actual number of inputs\n",
    "    \n",
    "\n",
    "2. Takes an input vector $\\mathbf{w} \\in \\mathbb{R}^{n}$ where:\n",
    "    - $\\mathbf{w}_i \\in [0, 1]$\n",
    "    \n",
    "\n",
    "3. Performs one affine transformation $f(\\mathbf{x}_j)$ where:\n",
    "    - $f \\colon \\mathbb{R}^{n} \\to \\mathbb{R}^{n}$\n",
    "    - $f(\\mathbf{x}_j) = \\mathbf{w}_j \\mathbf{x}_j$\n",
    "    \n",
    "\n",
    "4. Sums the outputs of that transformation: $\\sum_{i=1}^{n} x_{j,i} w_{i}$\n",
    "\n",
    "5. Applies a binary step activation function $g(x)$ where:\n",
    "    - $f(x)={\\begin{cases} 0 &{\\text{for }} x < 0 \\\\1 &{\\text{for }} x >  0 \\end{cases}}$\n",
    "    - $f(x)$ is monotonic\n",
    "    - $f(x)$ is not continuous\n",
    "    - $f(x)$ is not continuously differentiable\n",
    "    \n",
    "\n",
    "6. Produces an output $\\hat{y}_j$ where:\n",
    "    - $\\hat{y}_j \\in \\{0, 1\\}$\n",
    "    - $\\hat{y}_j = g \\! \\left( \\sum_{i=1}^{n} x_{j,i} w_{i} \\right)$"
   ]
  }
 ],
 "metadata": {
  "kernelspec": {
   "display_name": "Swift",
   "language": "swift",
   "name": "swift"
  },
  "language_info": {
   "file_extension": ".swift",
   "mimetype": "text/x-swift",
   "name": "swift",
   "version": ""
  },
  "output_auto_scroll": true,
  "widgets": {
   "application/vnd.jupyter.widget-state+json": {
    "state": {},
    "version_major": 2,
    "version_minor": 0
   }
  }
 },
 "nbformat": 4,
 "nbformat_minor": 4
}
