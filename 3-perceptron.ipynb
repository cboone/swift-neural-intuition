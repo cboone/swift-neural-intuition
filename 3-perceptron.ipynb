{
 "cells": [
  {
   "cell_type": "markdown",
   "metadata": {},
   "source": [
    "# 3. ... Perceptron to perform ... using plain Swift"
   ]
  },
  {
   "cell_type": "markdown",
   "metadata": {},
   "source": [
    "**[Christopher Boone](https://github.com/cboone)**"
   ]
  },
  {
   "cell_type": "markdown",
   "metadata": {
    "execution": {
     "iopub.execute_input": "2020-05-26T22:43:03.325916Z",
     "iopub.status.busy": "2020-05-26T22:43:03.325403Z",
     "iopub.status.idle": "2020-05-26T22:43:03.513575Z",
     "shell.execute_reply": "2020-05-26T22:43:03.510424Z",
     "shell.execute_reply.started": "2020-05-26T22:43:03.325855Z"
    }
   },
   "source": [
    "[![Open In Colab](https://colab.research.google.com/assets/colab-badge.svg)](http://colab.research.google.com/github/cboone/swift-neural-intuition/blob/master/2-perceptron-exclusive-disjunction.ipynb)"
   ]
  },
  {
   "cell_type": "markdown",
   "metadata": {},
   "source": [
    "_Using the network from [part one](1-perceptron-inclusive-disjunction.ipynb)._"
   ]
  },
  {
   "cell_type": "markdown",
   "metadata": {},
   "source": [
    "The Perceptron we've created is a simple network that:\n",
    "\n",
    "1. Takes an input vector $\\mathbf{x}_j \\in \\mathbb{R}^{n}$ where:\n",
    "    - $\\mathbf{x}_{j,i} \\in \\{0, 1\\}$\n",
    "    - $\\mathbf{x}_{j,0} = 1$\n",
    "    - $n = 3, n = m + 1$, where $m = 2$ is the actual number of inputs\n",
    "    \n",
    "\n",
    "2. Takes a weights vector $\\mathbf{w} \\in \\mathbb{R}^{n}$ where:\n",
    "    - $w_i \\in [0, 1]$\n",
    "    \n",
    "\n",
    "3. Calculates the dot (inner, scalar) product of the inputs and the weights where:\n",
    "    - $f \\colon \\mathbb{R}^{n} \\to \\mathbb{R}$\n",
    "    - $f(\\mathbf{x}_j) = \\mathbf{x}_j \\cdot \\mathbf{w}$\n",
    "    - $f(\\mathbf{x}_j) = \\sum_{i=1}^{n} x_{j,i} w_{i}$\n",
    "\n",
    "\n",
    "5. Applies a binary step activation function $g(h_j)$ where:\n",
    "    - $g(h_j)={\\begin{cases} 0 &{\\text{for }} h_j < 0 \\\\1 &{\\text{for }} h_j >  0 \\end{cases}}$\n",
    "    - therefore $g(x)$ is monotonic, but not continuous\n",
    "    - $h_j$ is the weighted, summed inputs\n",
    "    \n",
    "\n",
    "6. Produces an output $\\hat{y}_j$ where:\n",
    "    - $\\hat{y}_j \\in \\{0, 1\\}$\n",
    "    - $\\hat{y}_j = g \\! \\left( \\sum_{i=1}^{n} x_{j,i} w_{i} \\right)$"
   ]
  },
  {
   "cell_type": "markdown",
   "metadata": {},
   "source": [
    "_NB:_ Using $n = m + 1$ and $\\mathbf{x}_{j,0} = 1$ obviates the need for a separate bias term by ensuring that all input vectors have $1$ as their first value, the impact of which is moderated by $\\mathbf{w}_0$."
   ]
  },
  {
   "cell_type": "markdown",
   "metadata": {},
   "source": [
    "And its training:\n",
    "\n",
    "1. Measures the prediction $\\hat{y}_j$ against the expectation $y_j$ using an objective (cost, error, loss, transfer) function $L(\\hat{y}_j, y_j)$\n",
    "\n",
    "1. Updates the weights $\\mathbf{w}$ using the delta rule $\\Delta w_{j,i} = \\alpha (\\hat{y}_j - y_j) x_{j,i}$, simplified to leave out the gradient of $g'(h_j)$, where:\n",
    "    - $\\alpha \\in [0, 1]$\n",
    "    - $h_j$ is the scalar product of the inputs and the weights"
   ]
  },
  {
   "cell_type": "markdown",
   "metadata": {},
   "source": [
    "This network can be modified, without changing its structure, by:\n",
    "\n",
    "1. Changing $n$ depending on the shape of the input data\n",
    "1. Providing different starting $\\mathbf{w}$ values\n",
    "1. Using a different activation function $g(x)$\n",
    "1. Measuring the predictions with a different objective function $L(\\hat{y}_j, y_j)$\n",
    "1. Including the gradient $g'(h_j)$ when updating the weights $\\mathbf{w}$"
   ]
  },
  {
   "cell_type": "markdown",
   "metadata": {},
   "source": [
    "## ?"
   ]
  }
 ],
 "metadata": {
  "kernelspec": {
   "display_name": "Swift",
   "language": "swift",
   "name": "swift"
  },
  "language_info": {
   "file_extension": ".swift",
   "mimetype": "text/x-swift",
   "name": "swift",
   "version": ""
  },
  "output_auto_scroll": true,
  "widgets": {
   "application/vnd.jupyter.widget-state+json": {
    "state": {},
    "version_major": 2,
    "version_minor": 0
   }
  }
 },
 "nbformat": 4,
 "nbformat_minor": 4
}
