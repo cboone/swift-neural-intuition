{
 "cells": [
  {
   "cell_type": "markdown",
   "metadata": {},
   "source": [
    "# 2. Failing to train a Perceptron to perform exclusive disjunction using plain Swift"
   ]
  },
  {
   "cell_type": "markdown",
   "metadata": {},
   "source": [
    "**[Christopher Boone](https://github.com/cboone)**"
   ]
  },
  {
   "cell_type": "markdown",
   "metadata": {
    "execution": {
     "iopub.execute_input": "2020-05-26T22:43:03.325916Z",
     "iopub.status.busy": "2020-05-26T22:43:03.325403Z",
     "iopub.status.idle": "2020-05-26T22:43:03.513575Z",
     "shell.execute_reply": "2020-05-26T22:43:03.510424Z",
     "shell.execute_reply.started": "2020-05-26T22:43:03.325855Z"
    }
   },
   "source": [
    "[![Open In Colab](https://colab.research.google.com/assets/colab-badge.svg)](http://colab.research.google.com/github/cboone/swift-neural-intuition/blob/master/2-perceptron-exclusive-disjunction.ipynb)"
   ]
  },
  {
   "cell_type": "markdown",
   "metadata": {},
   "source": [
    "_Using the network from [part one](1-perceptron-inclusive-disjunction.ipynb)._"
   ]
  },
  {
   "cell_type": "markdown",
   "metadata": {},
   "source": [
    "The training data is the truth table for $A \\oplus B$, structured as an array of tuples $[(\\mathbf{x}_j, d_j)] = [((\\mathbf{x}_{j, 1}, \\mathbf{x}_{j, 2}, \\mathbf{x}_{j, 3}), d_j)]$ where:\n",
    "\n",
    "- $\\mathbf{x}_j$ is the input vector\n",
    "- $\\mathbf{x}_{j, 0} = 1$ (to act as a bias value, in concert with $w_0$)\n",
    "- $d_j$ is the correct, sampled output value"
   ]
  },
  {
   "cell_type": "code",
   "execution_count": 19,
   "metadata": {
    "execution": {
     "iopub.execute_input": "2020-05-28T00:07:48.066890Z",
     "iopub.status.busy": "2020-05-28T00:07:48.066392Z",
     "iopub.status.idle": "2020-05-28T00:07:48.987225Z",
     "shell.execute_reply": "2020-05-28T00:07:48.986095Z",
     "shell.execute_reply.started": "2020-05-28T00:07:48.066837Z"
    }
   },
   "outputs": [],
   "source": [
    "let xorTrainingSamples: [([Double], Double)] = [\n",
    "    ([1, 0, 0], 0),\n",
    "    ([1, 0, 1], 1),\n",
    "    ([1, 1, 0], 1),\n",
    "    ([1, 1, 1], 0)\n",
    "]\n",
    "let xorTrainingSampleInputs: [[Double]] = xorTrainingSamples.map { $0.0 }\n",
    "let xorTrainingSampleOutputs: [Double] = xorTrainingSamples.map { $0.1 }"
   ]
  },
  {
   "cell_type": "markdown",
   "metadata": {},
   "source": [
    "Attempting to train the Perceptron to perform exclusive disjunction will fail, even after a large number of iterations:"
   ]
  },
  {
   "cell_type": "code",
   "execution_count": 20,
   "metadata": {
    "execution": {
     "iopub.execute_input": "2020-05-28T00:07:48.989412Z",
     "iopub.status.busy": "2020-05-28T00:07:48.988425Z",
     "iopub.status.idle": "2020-05-28T00:08:20.225911Z",
     "shell.execute_reply": "2020-05-28T00:08:20.222347Z",
     "shell.execute_reply.started": "2020-05-28T00:07:48.989375Z"
    }
   },
   "outputs": [
    {
     "name": "stdout",
     "output_type": "stream",
     "text": [
      "Iterations: 0\n",
      "Epochs: 0\n",
      "Current weights: [0.0, 0.0, 0.0]\n",
      "Predicted outputs: [0.0, 0.0, 0.0, 0.0]\n",
      "Mean error: 0.5\n",
      "Accuracy: 0.5\n",
      "Precision: 0.0\n",
      "Recall: 0.0\n",
      "F1: 0.0\n",
      "\n",
      "Iterations: 1000000\n",
      "Epochs: 250000\n",
      "Current weights: [0.1, 0.0, 0.1]\n",
      "Predicted outputs: [1.0, 1.0, 1.0, 1.0]\n",
      "Mean error: 0.5\n",
      "Accuracy: 0.5\n",
      "Precision: 0.5\n",
      "Recall: 1.0\n",
      "F1: 0.6666666666666666\n",
      "\n",
      "Iterations: 2000000\n",
      "Epochs: 500000\n",
      "Current weights: [0.1, 0.0, 0.1]\n",
      "Predicted outputs: [1.0, 1.0, 1.0, 1.0]\n",
      "Mean error: 0.5\n",
      "Accuracy: 0.5\n",
      "Precision: 0.5\n",
      "Recall: 1.0\n",
      "F1: 0.6666666666666666\n",
      "\n",
      "Iterations: 3000000\n",
      "Epochs: 750000\n",
      "Current weights: [0.1, 0.0, 0.1]\n",
      "Predicted outputs: [1.0, 1.0, 1.0, 1.0]\n",
      "Mean error: 0.5\n",
      "Accuracy: 0.5\n",
      "Precision: 0.5\n",
      "Recall: 1.0\n",
      "F1: 0.6666666666666666\n",
      "\n",
      "Iterations: 4000000\n",
      "Epochs: 1000000\n",
      "Current weights: [0.1, 0.0, 0.1]\n",
      "Predicted outputs: [1.0, 1.0, 1.0, 1.0]\n",
      "Mean error: 0.5\n",
      "Accuracy: 0.5\n",
      "Precision: 0.5\n",
      "Recall: 1.0\n",
      "F1: 0.6666666666666666\n",
      "\n",
      "Iterations: 5000000\n",
      "Epochs: 1250000\n",
      "Current weights: [0.1, 0.0, 0.1]\n",
      "Predicted outputs: [1.0, 1.0, 1.0, 1.0]\n",
      "Mean error: 0.5\n",
      "Accuracy: 0.5\n",
      "Precision: 0.5\n",
      "Recall: 1.0\n",
      "F1: 0.6666666666666666\n",
      "\n",
      "Iterations: 6000000\n",
      "Epochs: 1500000\n",
      "Current weights: [0.1, 0.0, 0.1]\n",
      "Predicted outputs: [1.0, 1.0, 1.0, 1.0]\n",
      "Mean error: 0.5\n",
      "Accuracy: 0.5\n",
      "Precision: 0.5\n",
      "Recall: 1.0\n",
      "F1: 0.6666666666666666\n",
      "\n",
      "Iterations: 7000000\n",
      "Epochs: 1750000\n",
      "Current weights: [0.1, 0.0, 0.1]\n",
      "Predicted outputs: [1.0, 1.0, 1.0, 1.0]\n",
      "Mean error: 0.5\n",
      "Accuracy: 0.5\n",
      "Precision: 0.5\n",
      "Recall: 1.0\n",
      "F1: 0.6666666666666666\n",
      "\n",
      "Iterations: 8000000\n",
      "Epochs: 2000000\n",
      "Current weights: [0.1, 0.0, 0.1]\n",
      "Predicted outputs: [1.0, 1.0, 1.0, 1.0]\n",
      "Mean error: 0.5\n",
      "Accuracy: 0.5\n",
      "Precision: 0.5\n",
      "Recall: 1.0\n",
      "F1: 0.6666666666666666\n",
      "\n",
      "Iterations: 9000000\n",
      "Epochs: 2250000\n",
      "Current weights: [0.1, 0.0, 0.1]\n",
      "Predicted outputs: [1.0, 1.0, 1.0, 1.0]\n",
      "Mean error: 0.5\n",
      "Accuracy: 0.5\n",
      "Precision: 0.5\n",
      "Recall: 1.0\n",
      "F1: 0.6666666666666666\n",
      "\n",
      "Iterations: 10000000\n",
      "Epochs: 2500000\n",
      "Current weights: [0.1, 0.0, 0.1]\n",
      "Predicted outputs: [1.0, 1.0, 1.0, 1.0]\n",
      "Mean error: 0.5\n",
      "Accuracy: 0.5\n",
      "Precision: 0.5\n",
      "Recall: 1.0\n",
      "F1: 0.6666666666666666\n",
      "\n"
     ]
    },
    {
     "data": {
      "text/plain": [
       "▿ 3 elements\n",
       "  - 0 : 0.1\n",
       "  - 1 : 0.0\n",
       "  - 2 : 0.1\n"
      ]
     },
     "execution_count": 20,
     "metadata": {},
     "output_type": "execute_result"
    }
   ],
   "source": [
    "trainWeights(\n",
    "    startingFrom: [0, 0, 0],\n",
    "    samples: xorTrainingSamples,\n",
    "    learningRate: 0.1,\n",
    "    errorThreshold: 0.25,\n",
    "    maximumIterationCount: Int(1e7),\n",
    "    activation: unitStep\n",
    ")"
   ]
  }
 ],
 "metadata": {
  "kernelspec": {
   "display_name": "Swift",
   "language": "swift",
   "name": "swift"
  },
  "language_info": {
   "file_extension": ".swift",
   "mimetype": "text/x-swift",
   "name": "swift",
   "version": ""
  },
  "output_auto_scroll": true,
  "widgets": {
   "application/vnd.jupyter.widget-state+json": {
    "state": {},
    "version_major": 2,
    "version_minor": 0
   }
  }
 },
 "nbformat": 4,
 "nbformat_minor": 4
}
