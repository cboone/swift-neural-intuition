{
 "cells": [
  {
   "cell_type": "markdown",
   "metadata": {},
   "source": [
    "# 1. Training a Perceptron to perform inclusive disjunction using plain Swift"
   ]
  },
  {
   "cell_type": "markdown",
   "metadata": {},
   "source": [
    "**[Christopher Boone](https://github.com/cboone)**"
   ]
  },
  {
   "cell_type": "markdown",
   "metadata": {},
   "source": [
    "[![Open In Colab](https://colab.research.google.com/assets/colab-badge.svg)](http://colab.research.google.com/github/cboone/swift-neural-intuition/blob/master/1-perceptron-inclusive-disjunction.ipynb)"
   ]
  },
  {
   "cell_type": "markdown",
   "metadata": {},
   "source": [
    "_Following [Wikipedia's summary of the Perceptron learning algorithm](https://en.m.wikipedia.org/wiki/Perceptron#Learning_algorithm). Using Arrays to represent vectors and Doubles for all numbers, for simplicity._"
   ]
  },
  {
   "cell_type": "markdown",
   "metadata": {},
   "source": [
    "This network takes features as input vector $\\mathbf{x}_j$, a vector of weights (one per feature) as $\\mathbf{w}$, and an activation function $\\phi$, where $x_{j,i}, w_{i}, \\hat{y}_j \\in \\{0, 1\\}$ and $x_{j,0} = 1$:\n",
    "\n",
    "$$\\hat{y}_j = \\phi(\\mathbf{w} \\cdot \\mathbf{x}_j)$$\n",
    "\n",
    "Training the Perceptron requires: \n",
    "- a learning rate $r \\in [0, 1]$\n",
    "- a training set of sampled data $D = \\{(\\mathbf{x}_1, d_1), \\dots, (\\mathbf{x}_m, d_m)\\}$, where $\\mathbf{x}_j$ is the $n$-dimensional input vector, $d_j$ is the sampled (expected) output, and $m$ is the number of samples\n",
    "- an initial set of weights\n",
    "- an error threshold $\\gamma \\in [0, 1]$"
   ]
  },
  {
   "cell_type": "markdown",
   "metadata": {},
   "source": [
    "***"
   ]
  },
  {
   "cell_type": "markdown",
   "metadata": {},
   "source": [
    "The dot product of two vectors is defined by $\\mathbf{a} \\cdot \\mathbf{b} = \\sum_{i=1}^{n} a_{i} b_{i}$:"
   ]
  },
  {
   "cell_type": "code",
   "execution_count": 1,
   "metadata": {
    "execution": {
     "iopub.execute_input": "2020-05-28T20:14:16.992163Z",
     "iopub.status.busy": "2020-05-28T20:14:16.991447Z",
     "iopub.status.idle": "2020-05-28T20:14:23.090509Z",
     "shell.execute_reply": "2020-05-28T20:14:23.088769Z",
     "shell.execute_reply.started": "2020-05-28T20:14:16.992105Z"
    }
   },
   "outputs": [],
   "source": [
    "func dotProduct(_ a: [Double], _ b: [Double]) -> Double {\n",
    "    zip(a, b).map(*).reduce(0, +)\n",
    "}"
   ]
  },
  {
   "cell_type": "markdown",
   "metadata": {},
   "source": [
    "The activation function is the Heaviside or unit step function, which can be defined by $H(x) = \\frac{x + \\left|x\\right|}{2x}$:"
   ]
  },
  {
   "cell_type": "code",
   "execution_count": 2,
   "metadata": {
    "execution": {
     "iopub.execute_input": "2020-05-28T20:14:23.101426Z",
     "iopub.status.busy": "2020-05-28T20:14:23.098885Z",
     "iopub.status.idle": "2020-05-28T20:14:23.881235Z",
     "shell.execute_reply": "2020-05-28T20:14:23.879825Z",
     "shell.execute_reply.started": "2020-05-28T20:14:23.101378Z"
    }
   },
   "outputs": [],
   "source": [
    "func unitStep(_ x: Double) -> Double {\n",
    "    (x > 0) ? 1 : 0\n",
    "}"
   ]
  },
  {
   "cell_type": "markdown",
   "metadata": {},
   "source": [
    "The predicted output of the Perceptron can be calculated by:"
   ]
  },
  {
   "cell_type": "code",
   "execution_count": 3,
   "metadata": {
    "execution": {
     "iopub.execute_input": "2020-05-28T20:14:23.885624Z",
     "iopub.status.busy": "2020-05-28T20:14:23.885190Z",
     "iopub.status.idle": "2020-05-28T20:14:24.094517Z",
     "shell.execute_reply": "2020-05-28T20:14:24.093249Z",
     "shell.execute_reply.started": "2020-05-28T20:14:23.885584Z"
    }
   },
   "outputs": [],
   "source": [
    "func predictedOutput(_ inputs: [Double], weights: [Double], activation: (Double) -> (Double)) -> Double {\n",
    "    activation(dotProduct(weights, inputs))\n",
    "}"
   ]
  },
  {
   "cell_type": "markdown",
   "metadata": {},
   "source": [
    "Or, given an array of input values, by:"
   ]
  },
  {
   "cell_type": "code",
   "execution_count": 4,
   "metadata": {
    "execution": {
     "iopub.execute_input": "2020-05-28T20:14:24.096316Z",
     "iopub.status.busy": "2020-05-28T20:14:24.096028Z",
     "iopub.status.idle": "2020-05-28T20:14:24.584814Z",
     "shell.execute_reply": "2020-05-28T20:14:24.583650Z",
     "shell.execute_reply.started": "2020-05-28T20:14:24.096281Z"
    }
   },
   "outputs": [],
   "source": [
    "func predictedOutputs(_ inputs: [[Double]], weights: [Double], activation: (Double) -> (Double)) -> [Double] {\n",
    "    inputs.map { predictedOutput($0, weights: weights, activation: activation) }\n",
    "}"
   ]
  },
  {
   "cell_type": "markdown",
   "metadata": {},
   "source": [
    "The Perceptron's error function (or cost function, objective function, loss function) is defined by $E(\\mathbf{x}_j) = L(\\hat{y}_j, y_j) = y_j - \\hat{y}_j$:"
   ]
  },
  {
   "cell_type": "code",
   "execution_count": 5,
   "metadata": {
    "execution": {
     "iopub.execute_input": "2020-05-28T20:14:24.586009Z",
     "iopub.status.busy": "2020-05-28T20:14:24.585826Z",
     "iopub.status.idle": "2020-05-28T20:14:24.734871Z",
     "shell.execute_reply": "2020-05-28T20:14:24.733749Z",
     "shell.execute_reply.started": "2020-05-28T20:14:24.585983Z"
    }
   },
   "outputs": [],
   "source": [
    "func error(prediction: Double, sample: Double) -> Double {\n",
    "    sample - prediction\n",
    "}"
   ]
  },
  {
   "cell_type": "markdown",
   "metadata": {},
   "source": [
    "The mean error is given by $\\frac{1}{m} \\sum_{j=1}^{m} \\lvert y_j - \\hat{y}_j \\rvert$, where $m$ is the number of samples:"
   ]
  },
  {
   "cell_type": "code",
   "execution_count": 6,
   "metadata": {
    "execution": {
     "iopub.execute_input": "2020-05-28T20:14:24.736465Z",
     "iopub.status.busy": "2020-05-28T20:14:24.736143Z",
     "iopub.status.idle": "2020-05-28T20:14:25.426328Z",
     "shell.execute_reply": "2020-05-28T20:14:25.425262Z",
     "shell.execute_reply.started": "2020-05-28T20:14:24.736438Z"
    }
   },
   "outputs": [],
   "source": [
    "func meanError(predictions: [Double], samples: [Double]) -> Double {\n",
    "    let summedError = zip(samples, predictions).map(error).map(abs).reduce(0, +)\n",
    "    return (1 / Double(samples.count)) * summedError\n",
    "}"
   ]
  },
  {
   "cell_type": "markdown",
   "metadata": {},
   "source": [
    "The accuracy (percentage correct) can be calculated by:"
   ]
  },
  {
   "cell_type": "code",
   "execution_count": 7,
   "metadata": {
    "execution": {
     "iopub.execute_input": "2020-05-28T20:14:25.430495Z",
     "iopub.status.busy": "2020-05-28T20:14:25.429968Z",
     "iopub.status.idle": "2020-05-28T20:14:26.345912Z",
     "shell.execute_reply": "2020-05-28T20:14:26.344791Z",
     "shell.execute_reply.started": "2020-05-28T20:14:25.430338Z"
    }
   },
   "outputs": [],
   "source": [
    "func predictionAccuracy(predictions: [Double], samples: [Double]) -> Double {\n",
    "    let checkedPredictions = zip(predictions, samples).reduce(into: [Double]()) { checked, outputs in\n",
    "        checked.append(outputs.0 == outputs.1 ? 1 : 0)\n",
    "    }\n",
    "    let correct = checkedPredictions.reduce(0, +)\n",
    "    return correct / Double(predictions.count)\n",
    "}"
   ]
  },
  {
   "cell_type": "markdown",
   "metadata": {},
   "source": [
    "The number of true positive predictions can be calculated by:"
   ]
  },
  {
   "cell_type": "code",
   "execution_count": 8,
   "metadata": {
    "execution": {
     "iopub.execute_input": "2020-05-28T20:14:26.348954Z",
     "iopub.status.busy": "2020-05-28T20:14:26.348670Z",
     "iopub.status.idle": "2020-05-28T20:14:26.898998Z",
     "shell.execute_reply": "2020-05-28T20:14:26.897730Z",
     "shell.execute_reply.started": "2020-05-28T20:14:26.348925Z"
    }
   },
   "outputs": [],
   "source": [
    "func truePositivePredictions(predictions: [Double], samples: [Double]) -> Double {\n",
    "    let truePositivePredictions = zip(predictions, samples).reduce(into: [Double]()) { checked, outputs in\n",
    "        outputs == (1, 1) ? checked.append(1) : checked.append(0)\n",
    "    }\n",
    "    return truePositivePredictions.reduce(0, +)\n",
    "}\n"
   ]
  },
  {
   "cell_type": "markdown",
   "metadata": {},
   "source": [
    "The precision (proportion of positive identifications that were actually correct) can be calculated by:"
   ]
  },
  {
   "cell_type": "code",
   "execution_count": 9,
   "metadata": {
    "execution": {
     "iopub.execute_input": "2020-05-28T20:14:26.900694Z",
     "iopub.status.busy": "2020-05-28T20:14:26.900458Z",
     "iopub.status.idle": "2020-05-28T20:14:27.545379Z",
     "shell.execute_reply": "2020-05-28T20:14:27.543947Z",
     "shell.execute_reply.started": "2020-05-28T20:14:26.900667Z"
    }
   },
   "outputs": [],
   "source": [
    "func predictionPrecision(predictions: [Double], samples: [Double]) -> Double {\n",
    "    let truePositives = truePositivePredictions(predictions: predictions, samples: samples)\n",
    "    let allPositives = predictions.reduce(0, +)\n",
    "    return (allPositives > 0) ? (truePositives / allPositives) : 0\n",
    "}"
   ]
  },
  {
   "cell_type": "markdown",
   "metadata": {},
   "source": [
    "The recall (proportion of true positives that were actually correct) can be calculated by:"
   ]
  },
  {
   "cell_type": "code",
   "execution_count": 10,
   "metadata": {
    "execution": {
     "iopub.execute_input": "2020-05-28T20:14:27.546914Z",
     "iopub.status.busy": "2020-05-28T20:14:27.546662Z",
     "iopub.status.idle": "2020-05-28T20:14:28.351894Z",
     "shell.execute_reply": "2020-05-28T20:14:28.350589Z",
     "shell.execute_reply.started": "2020-05-28T20:14:27.546885Z"
    }
   },
   "outputs": [],
   "source": [
    "func predictionRecall(predictions: [Double], samples: [Double]) -> Double {\n",
    "    let truePositives = truePositivePredictions(predictions: predictions, samples: samples)\n",
    "    let actualPositivePredictions = zip(predictions, samples).reduce(into: [Double]()) { checked, outputs in\n",
    "        switch outputs {\n",
    "        case (1, 1), (0, 1):\n",
    "            checked.append(1)\n",
    "        default:\n",
    "            checked.append(0)\n",
    "        }\n",
    "    }\n",
    "    let actualPositives = actualPositivePredictions.reduce(0, +)\n",
    "    return truePositives / actualPositives\n",
    "}"
   ]
  },
  {
   "cell_type": "markdown",
   "metadata": {},
   "source": [
    "The F₁ measure (harmonic mean of precision and recall) can be calculated by:"
   ]
  },
  {
   "cell_type": "code",
   "execution_count": 11,
   "metadata": {
    "execution": {
     "iopub.execute_input": "2020-05-28T20:14:28.353593Z",
     "iopub.status.busy": "2020-05-28T20:14:28.353153Z",
     "iopub.status.idle": "2020-05-28T20:14:28.528730Z",
     "shell.execute_reply": "2020-05-28T20:14:28.526658Z",
     "shell.execute_reply.started": "2020-05-28T20:14:28.353562Z"
    }
   },
   "outputs": [],
   "source": [
    "func predictionF1(predictions: [Double], samples: [Double]) -> Double {\n",
    "    let precision = predictionPrecision(predictions: predictions, samples: samples)\n",
    "    let recall = predictionRecall(predictions: predictions, samples: samples)\n",
    "    return 2 / ((1 / recall) + (1 / precision))\n",
    "}"
   ]
  },
  {
   "cell_type": "markdown",
   "metadata": {},
   "source": [
    "The training data is the truth table for $A \\lor B$, structured as an array of tuples $[(\\mathbf{x}_j, d_j)] = [((\\mathbf{x}_{j, 1}, \\mathbf{x}_{j, 2}, \\mathbf{x}_{j, 3}), d_j)]$ where:\n",
    "\n",
    "- $\\mathbf{x}_j$ is the input\n",
    "- $\\mathbf{x}_{j, 0} = 1$ (to act as a bias value, in concert with $w_0$)\n",
    "- $d_j$ is the correct, sampled output value"
   ]
  },
  {
   "cell_type": "code",
   "execution_count": 12,
   "metadata": {
    "execution": {
     "iopub.execute_input": "2020-05-28T20:14:28.530409Z",
     "iopub.status.busy": "2020-05-28T20:14:28.529920Z",
     "iopub.status.idle": "2020-05-28T20:14:29.186481Z",
     "shell.execute_reply": "2020-05-28T20:14:29.185263Z",
     "shell.execute_reply.started": "2020-05-28T20:14:28.530367Z"
    }
   },
   "outputs": [],
   "source": [
    "let orTrainingSet: [([Double], Double)] = [\n",
    "    ([1, 0, 0], 0),\n",
    "    ([1, 0, 1], 1),\n",
    "    ([1, 1, 0], 1),\n",
    "    ([1, 1, 1], 1)\n",
    "]\n",
    "let orTrainingSetInputs: [[Double]] = orTrainingSet.map { $0.0 }\n",
    "let orTrainingSetOutputs: [Double] = orTrainingSet.map { $0.1 }"
   ]
  },
  {
   "cell_type": "markdown",
   "metadata": {},
   "source": [
    "Given an untrained Perceptron with an initial set of weights $\\mathbf{w} = (0, 0, 0)$, calculate the predicted outputs for the training inputs:"
   ]
  },
  {
   "cell_type": "code",
   "execution_count": 13,
   "metadata": {
    "execution": {
     "iopub.execute_input": "2020-05-28T20:14:29.188410Z",
     "iopub.status.busy": "2020-05-28T20:14:29.188014Z",
     "iopub.status.idle": "2020-05-28T20:14:29.582374Z",
     "shell.execute_reply": "2020-05-28T20:14:29.576712Z",
     "shell.execute_reply.started": "2020-05-28T20:14:29.188373Z"
    }
   },
   "outputs": [
    {
     "data": {
      "text/plain": [
       "▿ 4 elements\n",
       "  - 0 : 0.0\n",
       "  - 1 : 0.0\n",
       "  - 2 : 0.0\n",
       "  - 3 : 0.0\n"
      ]
     },
     "execution_count": 13,
     "metadata": {},
     "output_type": "execute_result"
    }
   ],
   "source": [
    "predictedOutputs(orTrainingSetInputs, weights: [0, 0, 0], activation: unitStep)"
   ]
  },
  {
   "cell_type": "markdown",
   "metadata": {},
   "source": [
    "Calculate the mean error for the untrained Perceptron on the training inputs:"
   ]
  },
  {
   "cell_type": "code",
   "execution_count": 14,
   "metadata": {
    "execution": {
     "iopub.execute_input": "2020-05-28T20:14:29.585079Z",
     "iopub.status.busy": "2020-05-28T20:14:29.584734Z",
     "iopub.status.idle": "2020-05-28T20:14:30.251723Z",
     "shell.execute_reply": "2020-05-28T20:14:30.247669Z",
     "shell.execute_reply.started": "2020-05-28T20:14:29.585042Z"
    }
   },
   "outputs": [
    {
     "data": {
      "text/plain": [
       "0.75\n"
      ]
     },
     "execution_count": 14,
     "metadata": {},
     "output_type": "execute_result"
    }
   ],
   "source": [
    "meanError(\n",
    "    predictions: predictedOutputs(orTrainingSetInputs, weights: [0, 0, 0], activation: unitStep),\n",
    "    samples: orTrainingSetOutputs\n",
    ")"
   ]
  },
  {
   "cell_type": "markdown",
   "metadata": {},
   "source": [
    "To update the weights during Perceptron training, use the simplified delta rule (leaving out the derivative of $\\phi$, which is undefined at 0). Modify each weight $w_{j,i}$ by adding $\\Delta w_{j,i} = r E(\\mathbf{x}_j) x_{j,i}$ to it, where $r \\in [0, 1]$ is the learning rate:"
   ]
  },
  {
   "cell_type": "code",
   "execution_count": 15,
   "metadata": {
    "execution": {
     "iopub.execute_input": "2020-05-28T20:14:30.254455Z",
     "iopub.status.busy": "2020-05-28T20:14:30.253994Z",
     "iopub.status.idle": "2020-05-28T20:14:30.845413Z",
     "shell.execute_reply": "2020-05-28T20:14:30.844503Z",
     "shell.execute_reply.started": "2020-05-28T20:14:30.254414Z"
    }
   },
   "outputs": [],
   "source": [
    "func updatedWeights(_ oldWeights: [Double], error: Double, inputs: [Double], learningRate: Double) -> [Double] {\n",
    "    let weightAdjustment = learningRate * error\n",
    "    let newWeights = oldWeights.enumerated().map { $1 + (weightAdjustment * inputs[$0]) }\n",
    "    return newWeights\n",
    "}"
   ]
  },
  {
   "cell_type": "markdown",
   "metadata": {},
   "source": [
    "To train the Perceptron, calculate the predicted output $\\hat{y}_j$ based on the current weights $\\mathbf{w}$ and the activation function $\\phi$, then update the weights based on the error $E(\\mathbf{x}_j)$. Repeat until $E(\\mathbf{x}_j) < \\gamma$, where $\\gamma$ is the error threshold:"
   ]
  },
  {
   "cell_type": "code",
   "execution_count": 16,
   "metadata": {
    "execution": {
     "iopub.execute_input": "2020-05-28T20:14:30.846621Z",
     "iopub.status.busy": "2020-05-28T20:14:30.846407Z",
     "iopub.status.idle": "2020-05-28T20:14:31.186812Z",
     "shell.execute_reply": "2020-05-28T20:14:31.185814Z",
     "shell.execute_reply.started": "2020-05-28T20:14:30.846591Z"
    }
   },
   "outputs": [],
   "source": [
    "func _printTrainingSummary(_ iterations: Int, _ epochs: Int, _ currentWeights: [Double], _ predictions: [Double], _ averageError: Double, _ accuracy: Double, _ precision: Double, _ recall: Double, _ f1: Double) {\n",
    "    print(\"Iterations:\", iterations)\n",
    "    print(\"Epochs:\", epochs)\n",
    "    print(\"Current weights:\", currentWeights)\n",
    "    print(\"Predicted outputs:\", predictions)\n",
    "    print(\"Mean error:\", averageError)\n",
    "    print(\"Accuracy:\", accuracy)\n",
    "    print(\"Precision:\", precision)\n",
    "    print(\"Recall:\", recall)\n",
    "    print(\"F1:\", f1)\n",
    "    print(\"\")\n",
    "}"
   ]
  },
  {
   "cell_type": "code",
   "execution_count": 17,
   "metadata": {
    "execution": {
     "iopub.execute_input": "2020-05-28T20:14:31.190578Z",
     "iopub.status.busy": "2020-05-28T20:14:31.190288Z",
     "iopub.status.idle": "2020-05-28T20:14:32.695977Z",
     "shell.execute_reply": "2020-05-28T20:14:32.694980Z",
     "shell.execute_reply.started": "2020-05-28T20:14:31.190550Z"
    }
   },
   "outputs": [],
   "source": [
    "func trainWeights(\n",
    "    startingFrom startingWeights: [Double],\n",
    "    samples: [([Double], Double)],\n",
    "    learningRate: Double = 0.1,\n",
    "    errorThreshold: Double = 0.25,\n",
    "    maximumIterationCount: Int = Int(1e4),\n",
    "    activation: (Double) -> (Double)\n",
    ") -> [Double]\n",
    "{\n",
    "    let sampledInputs = samples.map { $0.0 }\n",
    "    let sampledOutputs = samples.map { $0.1 }\n",
    "    let shuffledSamples = samples.shuffled()\n",
    "    let sampleCount = samples.count\n",
    "    let printMeanErrorIterationCount = maximumIterationCount / 10\n",
    "    var currentWeights = startingWeights\n",
    "    var iterations = 0\n",
    "\n",
    "    var predictions: [Double] { predictedOutputs(sampledInputs, weights: currentWeights, activation: activation) }\n",
    "    var averageError: Double { meanError(predictions: predictions, samples: sampledOutputs) }\n",
    "    var accuracy: Double { predictionAccuracy(predictions: predictions, samples: sampledOutputs) }\n",
    "    var precision: Double { predictionPrecision(predictions: predictions, samples: sampledOutputs) }\n",
    "    var recall: Double { predictionRecall(predictions: predictions, samples: sampledOutputs) }\n",
    "    var f1: Double { predictionF1(predictions: predictions, samples: sampledOutputs) }\n",
    "\n",
    "    while iterations <= maximumIterationCount {\n",
    "        let (currentInputs, currentOutput) = shuffledSamples[iterations % sampleCount]\n",
    "        let currentPrediction = predictedOutput(currentInputs, weights: currentWeights, activation: activation)\n",
    "        let currentError = error(prediction: currentPrediction, sample: currentOutput)\n",
    "\n",
    "        if (iterations % printMeanErrorIterationCount == 0) || (iterations == maximumIterationCount) || (averageError < errorThreshold) {\n",
    "            _printTrainingSummary(iterations, (iterations / sampleCount), currentWeights, predictions, averageError, accuracy, precision, recall, f1)\n",
    "        }\n",
    "        if averageError < errorThreshold { break }\n",
    "\n",
    "        currentWeights = updatedWeights(currentWeights, error: currentError, inputs: currentInputs, learningRate: learningRate)\n",
    "        iterations += 1\n",
    "    }\n",
    "\n",
    "    return currentWeights\n",
    "}"
   ]
  },
  {
   "cell_type": "markdown",
   "metadata": {},
   "source": [
    "Train the Perceptron to perform inclusive disjunction:"
   ]
  },
  {
   "cell_type": "code",
   "execution_count": 18,
   "metadata": {
    "execution": {
     "iopub.execute_input": "2020-05-28T20:14:32.699768Z",
     "iopub.status.busy": "2020-05-28T20:14:32.699390Z",
     "iopub.status.idle": "2020-05-28T20:14:33.159059Z",
     "shell.execute_reply": "2020-05-28T20:14:33.156680Z",
     "shell.execute_reply.started": "2020-05-28T20:14:32.699726Z"
    }
   },
   "outputs": [
    {
     "name": "stdout",
     "output_type": "stream",
     "text": [
      "Iterations: 0\n",
      "Epochs: 0\n",
      "Current weights: [0.0, 0.0, 0.0]\n",
      "Predicted outputs: [0.0, 0.0, 0.0, 0.0]\n",
      "Mean error: 0.75\n",
      "Accuracy: 0.25\n",
      "Precision: 0.0\n",
      "Recall: 0.0\n",
      "F1: 0.0\n",
      "\n",
      "Iterations: 6\n",
      "Epochs: 1\n",
      "Current weights: [0.0, 0.1, 0.1]\n",
      "Predicted outputs: [0.0, 1.0, 1.0, 1.0]\n",
      "Mean error: 0.0\n",
      "Accuracy: 1.0\n",
      "Precision: 1.0\n",
      "Recall: 1.0\n",
      "F1: 1.0\n",
      "\n"
     ]
    },
    {
     "data": {
      "text/plain": [
       "▿ 3 elements\n",
       "  - 0 : 0.0\n",
       "  - 1 : 0.1\n",
       "  - 2 : 0.1\n"
      ]
     },
     "execution_count": 18,
     "metadata": {},
     "output_type": "execute_result"
    }
   ],
   "source": [
    "trainWeights(\n",
    "    startingFrom: [0, 0, 0],\n",
    "    samples: orTrainingSet,\n",
    "    learningRate: 0.1,\n",
    "    errorThreshold: 0.25,\n",
    "    activation: unitStep\n",
    ")"
   ]
  }
 ],
 "metadata": {
  "kernelspec": {
   "display_name": "Swift",
   "language": "swift",
   "name": "swift"
  },
  "language_info": {
   "file_extension": ".swift",
   "mimetype": "text/x-swift",
   "name": "swift",
   "version": ""
  },
  "output_auto_scroll": true,
  "toc-autonumbering": false,
  "toc-showmarkdowntxt": false,
  "widgets": {
   "application/vnd.jupyter.widget-state+json": {
    "state": {},
    "version_major": 2,
    "version_minor": 0
   }
  }
 },
 "nbformat": 4,
 "nbformat_minor": 4
}
