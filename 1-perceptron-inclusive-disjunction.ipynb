{
 "cells": [
  {
   "cell_type": "markdown",
   "metadata": {},
   "source": [
    "# 1. Training a Perceptron to perform inclusive disjunction using plain Swift"
   ]
  },
  {
   "cell_type": "markdown",
   "metadata": {},
   "source": [
    "_Following [Wikipedia's summary of the Perceptron learning algorithm](https://en.m.wikipedia.org/wiki/Perceptron#Learning_algorithm). Using Arrays to represent vectors and Doubles for all numbers, for simplicity._"
   ]
  },
  {
   "cell_type": "markdown",
   "metadata": {},
   "source": [
    "This network takes features as input vector $\\mathbf{x}_j$, a vector of weights (one per feature) as $\\mathbf{w}$, and an activation function $\\phi$, where $x_{j,i}, w_{i}, \\hat{y}_j \\in \\{0, 1\\}$ and $x_{j,0} = 1$:\n",
    "\n",
    "$$\\hat{y}_j = \\phi(\\mathbf{w} \\cdot \\mathbf{x}_j)$$\n",
    "\n",
    "Training the Perceptron requires: \n",
    "- a learning rate $r \\in [0, 1]$\n",
    "- a training set of sampled data $D = \\{(\\mathbf{x}_1, d_1), \\dots, (\\mathbf{x}_m, d_m)\\}$, where $\\mathbf{x}_j$ is the $n$-dimensional input vector, $d_j$ is the sampled (expected) output, and $m$ is the number of samples\n",
    "- an initial set of weights\n",
    "- an error threshold $\\gamma$"
   ]
  },
  {
   "cell_type": "markdown",
   "metadata": {},
   "source": [
    "***"
   ]
  },
  {
   "cell_type": "markdown",
   "metadata": {},
   "source": [
    "The dot product of two vectors is defined by $\\mathbf{a} \\cdot \\mathbf{b} = \\sum _{i=1}^{n} a_{i} b_{i}$:"
   ]
  },
  {
   "cell_type": "code",
   "execution_count": 1,
   "metadata": {
    "execution": {
     "iopub.execute_input": "2020-05-26T19:44:13.137548Z",
     "iopub.status.busy": "2020-05-26T19:44:13.137017Z",
     "iopub.status.idle": "2020-05-26T19:44:19.722117Z",
     "shell.execute_reply": "2020-05-26T19:44:19.719921Z",
     "shell.execute_reply.started": "2020-05-26T19:44:13.137455Z"
    }
   },
   "outputs": [],
   "source": [
    "func dotProduct(_ a: [Double], _ b: [Double]) -> Double {\n",
    "    zip(a, b).map(*).reduce(0, +)\n",
    "}"
   ]
  },
  {
   "cell_type": "markdown",
   "metadata": {},
   "source": [
    "The activation function is the Heaviside or unit step function, which can be defined by $H(x) = \\frac{x + \\left|x\\right|}{2x}$:"
   ]
  },
  {
   "cell_type": "code",
   "execution_count": 2,
   "metadata": {
    "execution": {
     "iopub.execute_input": "2020-05-26T19:44:19.735729Z",
     "iopub.status.busy": "2020-05-26T19:44:19.734835Z",
     "iopub.status.idle": "2020-05-26T19:44:20.701260Z",
     "shell.execute_reply": "2020-05-26T19:44:20.700448Z",
     "shell.execute_reply.started": "2020-05-26T19:44:19.735678Z"
    }
   },
   "outputs": [],
   "source": [
    "func unitStep(_ x: Double) -> Double {\n",
    "    (x > 0) ? 1 : 0\n",
    "}"
   ]
  },
  {
   "cell_type": "markdown",
   "metadata": {},
   "source": [
    "The predicted output of the Perceptron can be calculated by:"
   ]
  },
  {
   "cell_type": "code",
   "execution_count": 3,
   "metadata": {
    "execution": {
     "iopub.execute_input": "2020-05-26T19:44:20.706584Z",
     "iopub.status.busy": "2020-05-26T19:44:20.705606Z",
     "iopub.status.idle": "2020-05-26T19:44:20.891134Z",
     "shell.execute_reply": "2020-05-26T19:44:20.890464Z",
     "shell.execute_reply.started": "2020-05-26T19:44:20.706531Z"
    }
   },
   "outputs": [],
   "source": [
    "func predictedOutput(_ inputs: [Double], weights: [Double], activation: (Double) -> (Double)) -> Double {\n",
    "    activation(dotProduct(weights, inputs))\n",
    "}"
   ]
  },
  {
   "cell_type": "markdown",
   "metadata": {},
   "source": [
    "Or, given an array of input values, by:"
   ]
  },
  {
   "cell_type": "code",
   "execution_count": 4,
   "metadata": {
    "execution": {
     "iopub.execute_input": "2020-05-26T19:44:20.893648Z",
     "iopub.status.busy": "2020-05-26T19:44:20.892710Z",
     "iopub.status.idle": "2020-05-26T19:44:21.425395Z",
     "shell.execute_reply": "2020-05-26T19:44:21.424478Z",
     "shell.execute_reply.started": "2020-05-26T19:44:20.893447Z"
    }
   },
   "outputs": [],
   "source": [
    "func predictedOutputs(_ inputs: [[Double]], weights: [Double], activation: (Double) -> (Double)) -> [Double] {\n",
    "    inputs.map { predictedOutput($0, weights: weights, activation: activation) }\n",
    "}"
   ]
  },
  {
   "cell_type": "markdown",
   "metadata": {},
   "source": [
    "The Perceptron's error function (or cost function, objective function, loss function) is defined by $E(x_i) = y_i - \\hat{y_i}$:"
   ]
  },
  {
   "cell_type": "code",
   "execution_count": 5,
   "metadata": {
    "execution": {
     "iopub.execute_input": "2020-05-26T19:44:21.429149Z",
     "iopub.status.busy": "2020-05-26T19:44:21.428285Z",
     "iopub.status.idle": "2020-05-26T19:44:21.642584Z",
     "shell.execute_reply": "2020-05-26T19:44:21.641419Z",
     "shell.execute_reply.started": "2020-05-26T19:44:21.429098Z"
    }
   },
   "outputs": [],
   "source": [
    "func error(prediction: Double, sample: Double) -> Double {\n",
    "    sample - prediction\n",
    "}"
   ]
  },
  {
   "cell_type": "markdown",
   "metadata": {},
   "source": [
    "The total error is defined by $\\sum_{i=1}^{m}  y_{i} - \\hat{y_{i}}$:"
   ]
  },
  {
   "cell_type": "code",
   "execution_count": 6,
   "metadata": {
    "execution": {
     "iopub.execute_input": "2020-05-26T19:44:21.645884Z",
     "iopub.status.busy": "2020-05-26T19:44:21.644393Z",
     "iopub.status.idle": "2020-05-26T19:44:22.391728Z",
     "shell.execute_reply": "2020-05-26T19:44:22.390771Z",
     "shell.execute_reply.started": "2020-05-26T19:44:21.645766Z"
    }
   },
   "outputs": [],
   "source": [
    "func summedError(predictions: [Double], samples: [Double]) -> Double {\n",
    "    zip(samples, predictions).map(-).reduce(0, +)\n",
    "}"
   ]
  },
  {
   "cell_type": "markdown",
   "metadata": {},
   "source": [
    "The mean error is given by $\\frac{1}{m} \\sum_{i=1}^{m} y_{i} - \\hat{y_{i}}$, where $m$ is the number of samples:"
   ]
  },
  {
   "cell_type": "code",
   "execution_count": 7,
   "metadata": {
    "execution": {
     "iopub.execute_input": "2020-05-26T19:44:22.393939Z",
     "iopub.status.busy": "2020-05-26T19:44:22.392888Z",
     "iopub.status.idle": "2020-05-26T19:44:22.573624Z",
     "shell.execute_reply": "2020-05-26T19:44:22.572809Z",
     "shell.execute_reply.started": "2020-05-26T19:44:22.393901Z"
    }
   },
   "outputs": [],
   "source": [
    "func meanError(predictions: [Double], samples: [Double]) -> Double {\n",
    "    (1 / Double(samples.count)) * summedError(predictions: predictions, samples: samples)\n",
    "}"
   ]
  },
  {
   "cell_type": "markdown",
   "metadata": {},
   "source": [
    "The accuracy (percentage correct) can be calculated by:"
   ]
  },
  {
   "cell_type": "code",
   "execution_count": 8,
   "metadata": {
    "execution": {
     "iopub.execute_input": "2020-05-26T19:44:22.574937Z",
     "iopub.status.busy": "2020-05-26T19:44:22.574537Z",
     "iopub.status.idle": "2020-05-26T19:44:23.962442Z",
     "shell.execute_reply": "2020-05-26T19:44:23.960741Z",
     "shell.execute_reply.started": "2020-05-26T19:44:22.574897Z"
    }
   },
   "outputs": [],
   "source": [
    "func predictionAccuracy(predictions: [Double], samples: [Double]) -> Double {\n",
    "    let checkedPredictions = zip(predictions, samples).reduce(into: [Double]()) { checked, outputs in\n",
    "        checked.append(outputs.0 == outputs.1 ? 1 : 0)\n",
    "    }\n",
    "    let correct = checkedPredictions.reduce(0, +)\n",
    "    return correct / Double(predictions.count)\n",
    "}"
   ]
  },
  {
   "cell_type": "markdown",
   "metadata": {},
   "source": [
    "The number of true positive predictions can be calculated by:"
   ]
  },
  {
   "cell_type": "code",
   "execution_count": 9,
   "metadata": {
    "execution": {
     "iopub.execute_input": "2020-05-26T19:44:23.998613Z",
     "iopub.status.busy": "2020-05-26T19:44:23.970948Z",
     "iopub.status.idle": "2020-05-26T19:44:25.187872Z",
     "shell.execute_reply": "2020-05-26T19:44:25.187175Z",
     "shell.execute_reply.started": "2020-05-26T19:44:23.998541Z"
    }
   },
   "outputs": [],
   "source": [
    "func truePositivePredictions(predictions: [Double], samples: [Double]) -> Double {\n",
    "    let truePositivePredictions = zip(predictions, samples).reduce(into: [Double]()) { checked, outputs in\n",
    "        outputs == (1, 1) ? checked.append(1) : checked.append(0)\n",
    "    }\n",
    "    return truePositivePredictions.reduce(0, +)\n",
    "}\n"
   ]
  },
  {
   "cell_type": "markdown",
   "metadata": {},
   "source": [
    "The precision (proportion of positive identifications that were actually correct) can be calculated by:"
   ]
  },
  {
   "cell_type": "code",
   "execution_count": 10,
   "metadata": {
    "execution": {
     "iopub.execute_input": "2020-05-26T19:44:25.191341Z",
     "iopub.status.busy": "2020-05-26T19:44:25.189843Z",
     "iopub.status.idle": "2020-05-26T19:44:25.977427Z",
     "shell.execute_reply": "2020-05-26T19:44:25.976359Z",
     "shell.execute_reply.started": "2020-05-26T19:44:25.191288Z"
    }
   },
   "outputs": [],
   "source": [
    "func predictionPrecision(predictions: [Double], samples: [Double]) -> Double {\n",
    "    let truePositives = truePositivePredictions(predictions: predictions, samples: samples)\n",
    "    let allPositives = predictions.reduce(0, +)\n",
    "    return (allPositives > 0) ? (truePositives / allPositives) : 0\n",
    "}"
   ]
  },
  {
   "cell_type": "markdown",
   "metadata": {},
   "source": [
    "The recall (proportion of true positives that were actually correct) can be calculated by:"
   ]
  },
  {
   "cell_type": "code",
   "execution_count": 11,
   "metadata": {
    "execution": {
     "iopub.execute_input": "2020-05-26T19:44:25.978751Z",
     "iopub.status.busy": "2020-05-26T19:44:25.978391Z",
     "iopub.status.idle": "2020-05-26T19:44:26.639637Z",
     "shell.execute_reply": "2020-05-26T19:44:26.638167Z",
     "shell.execute_reply.started": "2020-05-26T19:44:25.978723Z"
    }
   },
   "outputs": [],
   "source": [
    "func predictionRecall(predictions: [Double], samples: [Double]) -> Double {\n",
    "    let truePositives = truePositivePredictions(predictions: predictions, samples: samples)\n",
    "    let actualPositivePredictions = zip(predictions, samples).reduce(into: [Double]()) { checked, outputs in\n",
    "        switch outputs {\n",
    "        case (1, 1), (0, 1):\n",
    "            checked.append(1)\n",
    "        default:\n",
    "            checked.append(0)\n",
    "        }\n",
    "    }\n",
    "    let actualPositives = actualPositivePredictions.reduce(0, +)\n",
    "    return truePositives / actualPositives\n",
    "}"
   ]
  },
  {
   "cell_type": "markdown",
   "metadata": {},
   "source": [
    "The F₁ measure (harmonic mean of precision and recall) can be calculated by:"
   ]
  },
  {
   "cell_type": "code",
   "execution_count": 12,
   "metadata": {
    "execution": {
     "iopub.execute_input": "2020-05-26T19:44:26.652206Z",
     "iopub.status.busy": "2020-05-26T19:44:26.649847Z",
     "iopub.status.idle": "2020-05-26T19:44:26.858412Z",
     "shell.execute_reply": "2020-05-26T19:44:26.857331Z",
     "shell.execute_reply.started": "2020-05-26T19:44:26.652134Z"
    }
   },
   "outputs": [],
   "source": [
    "func predictionF1(predictions: [Double], samples: [Double]) -> Double {\n",
    "    let precision = predictionPrecision(predictions: predictions, samples: samples)\n",
    "    let recall = predictionRecall(predictions: predictions, samples: samples)\n",
    "    return 2 / ((1 / recall) + (1 / precision))\n",
    "}"
   ]
  },
  {
   "cell_type": "markdown",
   "metadata": {},
   "source": [
    "The training set is the truth table for $A \\lor B$, structured as an array of tuples where:\n",
    "- the first value is a vector containing the input values\n",
    "- the first input value needs to always equal 1 (to act as a bias value)\n",
    "- the second value is the correct output value"
   ]
  },
  {
   "cell_type": "code",
   "execution_count": 14,
   "metadata": {
    "execution": {
     "iopub.execute_input": "2020-05-26T19:44:47.985036Z",
     "iopub.status.busy": "2020-05-26T19:44:47.984613Z",
     "iopub.status.idle": "2020-05-26T19:44:48.816100Z",
     "shell.execute_reply": "2020-05-26T19:44:48.814949Z",
     "shell.execute_reply.started": "2020-05-26T19:44:47.984993Z"
    }
   },
   "outputs": [],
   "source": [
    "let trainingSet: [([Double], Double)] = [\n",
    "    ([1, 0, 0], 0),\n",
    "    ([1, 0, 1], 1),\n",
    "    ([1, 1, 0], 1),\n",
    "    ([1, 1, 1], 1)\n",
    "]\n",
    "let trainingSetInputs: [[Double]] = trainingSet.map { $0.0 }\n",
    "let trainingSetOutputs: [Double] = trainingSet.map { $0.1 }"
   ]
  },
  {
   "cell_type": "markdown",
   "metadata": {},
   "source": [
    "Given an untrained Perceptron with an initial set of weights $\\mathbf{w} = (0, 0, 0)$, calculate the predicted outputs for the training inputs:"
   ]
  },
  {
   "cell_type": "code",
   "execution_count": 16,
   "metadata": {
    "execution": {
     "iopub.execute_input": "2020-05-26T19:44:58.199345Z",
     "iopub.status.busy": "2020-05-26T19:44:58.198925Z",
     "iopub.status.idle": "2020-05-26T19:44:58.697369Z",
     "shell.execute_reply": "2020-05-26T19:44:58.696143Z",
     "shell.execute_reply.started": "2020-05-26T19:44:58.199300Z"
    }
   },
   "outputs": [
    {
     "data": {
      "text/plain": [
       "▿ 4 elements\n",
       "  - 0 : 0.0\n",
       "  - 1 : 0.0\n",
       "  - 2 : 0.0\n",
       "  - 3 : 0.0\n"
      ]
     },
     "execution_count": 16,
     "metadata": {},
     "output_type": "execute_result"
    }
   ],
   "source": [
    "predictedOutputs(trainingSetInputs, weights: [0, 0, 0], activation: unitStep)"
   ]
  },
  {
   "cell_type": "markdown",
   "metadata": {},
   "source": [
    "Calculate the mean error for the untrained Perceptron on the training inputs:"
   ]
  },
  {
   "cell_type": "code",
   "execution_count": 18,
   "metadata": {
    "execution": {
     "iopub.execute_input": "2020-05-26T19:45:16.472662Z",
     "iopub.status.busy": "2020-05-26T19:45:16.472286Z",
     "iopub.status.idle": "2020-05-26T19:45:16.953388Z",
     "shell.execute_reply": "2020-05-26T19:45:16.952249Z",
     "shell.execute_reply.started": "2020-05-26T19:45:16.472621Z"
    }
   },
   "outputs": [
    {
     "data": {
      "text/plain": [
       "0.75\n"
      ]
     },
     "execution_count": 18,
     "metadata": {},
     "output_type": "execute_result"
    }
   ],
   "source": [
    "meanError(\n",
    "    predictions: predictedOutputs(trainingSetInputs, weights: [0, 0, 0], activation: unitStep), \n",
    "    samples: trainingSetOutputs\n",
    ")"
   ]
  },
  {
   "cell_type": "markdown",
   "metadata": {},
   "source": [
    "To update the weights during Perceptron training, modify each weight $w_i$ by adding $r E(x_j) x_{j,i}$ to it, where $r$ is the learning rate:"
   ]
  },
  {
   "cell_type": "code",
   "execution_count": 19,
   "metadata": {
    "execution": {
     "iopub.execute_input": "2020-05-26T19:45:19.834665Z",
     "iopub.status.busy": "2020-05-26T19:45:19.833824Z",
     "iopub.status.idle": "2020-05-26T19:45:20.565939Z",
     "shell.execute_reply": "2020-05-26T19:45:20.564753Z",
     "shell.execute_reply.started": "2020-05-26T19:45:19.834593Z"
    }
   },
   "outputs": [],
   "source": [
    "func updatedWeights(_ oldWeights: [Double], error: Double, inputs: [Double], learningRate: Double) -> [Double] {\n",
    "    let weightsDelta = learningRate * error\n",
    "    let newWeights = oldWeights.enumerated().map { $1 + (weightsDelta * inputs[$0]) }\n",
    "    return newWeights\n",
    "}"
   ]
  },
  {
   "cell_type": "code",
   "execution_count": 27,
   "metadata": {
    "execution": {
     "iopub.execute_input": "2020-05-26T19:51:09.644699Z",
     "iopub.status.busy": "2020-05-26T19:51:09.644029Z",
     "iopub.status.idle": "2020-05-26T19:51:11.572732Z",
     "shell.execute_reply": "2020-05-26T19:51:11.571732Z",
     "shell.execute_reply.started": "2020-05-26T19:51:09.644641Z"
    }
   },
   "outputs": [],
   "source": [
    "func trainWeights(\n",
    "    startingFrom startingWeights: [Double], \n",
    "    samples: [([Double], Double)], \n",
    "    learningRate: Double,\n",
    "    errorThreshold: Double,\n",
    "    activation: (Double) -> (Double)\n",
    ") -> [Double] \n",
    "{\n",
    "    let sampledInputs = samples.map { $0.0 }\n",
    "    let sampledOutputs = samples.map { $0.1 }\n",
    "    var currentWeights = startingWeights\n",
    "    var predictions = predictedOutputs(sampledInputs, weights: currentWeights, activation: activation)\n",
    "    var averageError = meanError(predictions: predictions, samples: sampledOutputs)\n",
    "    var accuracy = predictionAccuracy(predictions: predictions, samples: sampledOutputs)\n",
    "    var precision = predictionPrecision(predictions: predictions, samples: sampledOutputs)\n",
    "    var recall = predictionRecall(predictions: predictions, samples: sampledOutputs)\n",
    "    var f1 = predictionF1(predictions: predictions, samples: sampledOutputs)\n",
    "    var iterations = 0\n",
    "    var epochs = 0\n",
    "\n",
    "    print(\"Starting weights:\", startingWeights)\n",
    "    print(\"Predicted outputs:\", predictions)\n",
    "    print(\"Mean error:\", averageError)\n",
    "    print(\"Accuracy:\", accuracy)\n",
    "    print(\"Precision:\", precision)\n",
    "    print(\"Recall:\", recall)\n",
    "    print(\"F1:\", f1)\n",
    "    print(\"\\n\")\n",
    "\n",
    "    while averageError >= errorThreshold {\n",
    "        epochs += 1\n",
    "        \n",
    "        for (currentInputs, currentOutput) in samples.shuffled() {\n",
    "            iterations += 1\n",
    "            let predictions = predictedOutputs(sampledInputs, weights: currentWeights, activation: activation)\n",
    "            averageError = meanError(predictions: predictions, samples: sampledOutputs)\n",
    "            let prediction = predictedOutput(currentInputs, weights: currentWeights, activation: activation)\n",
    "            let currentError = error(prediction: prediction, sample: currentOutput)\n",
    "            currentWeights = updatedWeights(currentWeights, error: currentError, inputs: currentInputs, learningRate: learningRate)\n",
    "        }\n",
    "    }\n",
    "\n",
    "    predictions = predictedOutputs(sampledInputs, weights: currentWeights, activation: activation)\n",
    "    averageError = meanError(predictions: predictions, samples: sampledOutputs)\n",
    "    accuracy = predictionAccuracy(predictions: predictions, samples: sampledOutputs)\n",
    "    precision = predictionPrecision(predictions: predictions, samples: sampledOutputs)\n",
    "    recall = predictionRecall(predictions: predictions, samples: sampledOutputs)\n",
    "    f1 = predictionF1(predictions: predictions, samples: sampledOutputs)\n",
    "\n",
    "    print(\"Epochs:\", epochs)\n",
    "    print(\"Iterations:\", iterations)\n",
    "    print(\"Final weights:\", currentWeights)\n",
    "    print(\"Predicted outputs:\", predictions)\n",
    "    print(\"Mean error:\", averageError)\n",
    "    print(\"Accuracy:\", accuracy)\n",
    "    print(\"Precision:\", precision)\n",
    "    print(\"Recall:\", recall)\n",
    "    print(\"F1:\", f1)\n",
    "\n",
    "    return currentWeights\n",
    "}"
   ]
  },
  {
   "cell_type": "code",
   "execution_count": 28,
   "metadata": {
    "execution": {
     "iopub.execute_input": "2020-05-26T19:51:11.577029Z",
     "iopub.status.busy": "2020-05-26T19:51:11.576783Z",
     "iopub.status.idle": "2020-05-26T19:51:12.244451Z",
     "shell.execute_reply": "2020-05-26T19:51:12.242986Z",
     "shell.execute_reply.started": "2020-05-26T19:51:11.577010Z"
    }
   },
   "outputs": [
    {
     "name": "stdout",
     "output_type": "stream",
     "text": [
      "Starting weights: [0.0, 0.0, 0.0]\n",
      "Predicted outputs: [0.0, 0.0, 0.0, 0.0]\n",
      "Mean error: 0.75\n",
      "Accuracy: 0.25\n",
      "Precision: 0.0\n",
      "Recall: 0.0\n",
      "F1: 0.0\n",
      "\n",
      "\n",
      "Epochs: 2\n",
      "Iterations: 8\n",
      "Final weights: [0.0, 1.0, 1.0]\n",
      "Predicted outputs: [0.0, 1.0, 1.0, 1.0]\n",
      "Mean error: 0.0\n",
      "Accuracy: 1.0\n",
      "Precision: 1.0\n",
      "Recall: 1.0\n",
      "F1: 1.0\n"
     ]
    },
    {
     "data": {
      "text/plain": [
       "▿ 3 elements\n",
       "  - 0 : 0.0\n",
       "  - 1 : 1.0\n",
       "  - 2 : 1.0\n"
      ]
     },
     "execution_count": 28,
     "metadata": {},
     "output_type": "execute_result"
    }
   ],
   "source": [
    "trainWeights(startingFrom: [0, 0, 0], samples: trainingSet, learningRate: 1, errorThreshold: 0.25, activation: unitStep)"
   ]
  },
  {
   "cell_type": "code",
   "execution_count": null,
   "metadata": {},
   "outputs": [],
   "source": []
  }
 ],
 "metadata": {
  "kernelspec": {
   "display_name": "Swift",
   "language": "swift",
   "name": "swift"
  },
  "language_info": {
   "file_extension": ".swift",
   "mimetype": "text/x-swift",
   "name": "swift",
   "version": ""
  },
  "widgets": {
   "application/vnd.jupyter.widget-state+json": {
    "state": {},
    "version_major": 2,
    "version_minor": 0
   }
  }
 },
 "nbformat": 4,
 "nbformat_minor": 4
}
