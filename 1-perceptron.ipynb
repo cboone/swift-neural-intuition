{
 "cells": [
  {
   "cell_type": "markdown",
   "metadata": {},
   "source": [
    "# Training a Perceptron to approximate logical disjunction"
   ]
  },
  {
   "cell_type": "markdown",
   "metadata": {},
   "source": [
    " Following [Wikipedia's summary of the Perceptron learning algorithm](https://en.m.wikipedia.org/wiki/Perceptron#Learning_algorithm). Using Arrays to represent vectors and Doubles for all numbers, for simplicity."
   ]
  },
  {
   "cell_type": "markdown",
   "metadata": {},
   "source": [
    "This network takes two binary valued features as input vector $\\mathbf{x}_j$, a vector of weights (one per feature) as $\\mathbf{w}$, and an activation function $\\phi$ that outputs a binary valued feature:\n",
    "\n",
    "$$\\hat{y}_j = \\phi(\\mathbf{w} \\cdot \\mathbf{x}_j)$$"
   ]
  },
  {
   "cell_type": "markdown",
   "metadata": {},
   "source": [
    "The dot product of two vectors is defined by $\\mathbf{a} \\cdot \\mathbf{b} = \\sum _{i=1}^{n} a_{i} b_{i}$:"
   ]
  },
  {
   "cell_type": "code",
   "execution_count": 1,
   "metadata": {
    "execution": {
     "iopub.execute_input": "2020-05-24T19:35:51.041311Z",
     "iopub.status.busy": "2020-05-24T19:35:51.040485Z",
     "iopub.status.idle": "2020-05-24T19:35:56.886583Z",
     "shell.execute_reply": "2020-05-24T19:35:56.885093Z",
     "shell.execute_reply.started": "2020-05-24T19:35:51.041152Z"
    }
   },
   "outputs": [],
   "source": [
    "func dotProduct(_ a: [Double], _ b: [Double]) -> Double {\n",
    "    zip(a, b).map(*).reduce(0, +)\n",
    "}"
   ]
  },
  {
   "cell_type": "markdown",
   "metadata": {},
   "source": [
    "The activation function is the Heaviside or unit step function, which can be defined by $H(x) = \\frac{x + \\left|x\\right|}{2x}$:"
   ]
  },
  {
   "cell_type": "code",
   "execution_count": 2,
   "metadata": {
    "execution": {
     "iopub.execute_input": "2020-05-24T19:35:56.890176Z",
     "iopub.status.busy": "2020-05-24T19:35:56.889353Z",
     "iopub.status.idle": "2020-05-24T19:35:57.564005Z",
     "shell.execute_reply": "2020-05-24T19:35:57.561920Z",
     "shell.execute_reply.started": "2020-05-24T19:35:56.890129Z"
    }
   },
   "outputs": [],
   "source": [
    "func unitStep(_ x: Double) -> Double {\n",
    "    (x > 0) ? 1 : 0\n",
    "}"
   ]
  },
  {
   "cell_type": "markdown",
   "metadata": {},
   "source": [
    "The predicted output of the Perceptron can be calculated by:"
   ]
  },
  {
   "cell_type": "code",
   "execution_count": 3,
   "metadata": {
    "execution": {
     "iopub.execute_input": "2020-05-24T19:35:57.566486Z",
     "iopub.status.busy": "2020-05-24T19:35:57.566111Z",
     "iopub.status.idle": "2020-05-24T19:35:57.891878Z",
     "shell.execute_reply": "2020-05-24T19:35:57.890828Z",
     "shell.execute_reply.started": "2020-05-24T19:35:57.566447Z"
    }
   },
   "outputs": [],
   "source": [
    "func predictedOutput(_ inputs: [Double], weights: [Double], activation: (Double) -> (Double)) -> Double {\n",
    "    activation(dotProduct(weights, inputs))\n",
    "}"
   ]
  },
  {
   "cell_type": "markdown",
   "metadata": {},
   "source": [
    "Or, given an array of input values, by:"
   ]
  },
  {
   "cell_type": "code",
   "execution_count": 4,
   "metadata": {
    "execution": {
     "iopub.execute_input": "2020-05-24T19:35:57.900376Z",
     "iopub.status.busy": "2020-05-24T19:35:57.899756Z",
     "iopub.status.idle": "2020-05-24T19:35:58.509265Z",
     "shell.execute_reply": "2020-05-24T19:35:58.508167Z",
     "shell.execute_reply.started": "2020-05-24T19:35:57.900332Z"
    }
   },
   "outputs": [],
   "source": [
    "func predictedOutputs(_ inputs: [[Double]], weights: [Double], activation: (Double) -> (Double)) -> [Double] {\n",
    "    inputs.map { predictedOutput($0, weights: weights, activation: activation) }\n",
    "}"
   ]
  },
  {
   "cell_type": "markdown",
   "metadata": {},
   "source": [
    "The Perceptron's error function (or cost function, objective function, loss function) is defined by $E(x_i) = y_i - \\hat{y_i}$:"
   ]
  },
  {
   "cell_type": "code",
   "execution_count": 5,
   "metadata": {
    "execution": {
     "iopub.execute_input": "2020-05-24T19:35:58.519634Z",
     "iopub.status.busy": "2020-05-24T19:35:58.519063Z",
     "iopub.status.idle": "2020-05-24T19:35:58.759728Z",
     "shell.execute_reply": "2020-05-24T19:35:58.758201Z",
     "shell.execute_reply.started": "2020-05-24T19:35:58.519570Z"
    }
   },
   "outputs": [],
   "source": [
    "func error(prediction: Double, sample: Double) -> Double {\n",
    "    sample - prediction\n",
    "}"
   ]
  },
  {
   "cell_type": "markdown",
   "metadata": {},
   "source": [
    "The total error is defined by $\\sum_{i=1}^{m}  y_{i} - \\hat{y_{i}}$:"
   ]
  },
  {
   "cell_type": "code",
   "execution_count": 6,
   "metadata": {
    "execution": {
     "iopub.execute_input": "2020-05-24T19:35:58.763094Z",
     "iopub.status.busy": "2020-05-24T19:35:58.762698Z",
     "iopub.status.idle": "2020-05-24T19:35:59.513411Z",
     "shell.execute_reply": "2020-05-24T19:35:59.512668Z",
     "shell.execute_reply.started": "2020-05-24T19:35:58.763051Z"
    }
   },
   "outputs": [],
   "source": [
    "func summedError(predictions: [Double], samples: [Double]) -> Double {\n",
    "    zip(samples, predictions).map(-).reduce(0, +)\n",
    "}"
   ]
  },
  {
   "cell_type": "markdown",
   "metadata": {},
   "source": [
    "The mean error is given by $\\frac{1}{m} \\sum_{i=1}^{m} y_{i} - \\hat{y_{i}}$, where $m$ is the number of samples:"
   ]
  },
  {
   "cell_type": "code",
   "execution_count": 7,
   "metadata": {
    "execution": {
     "iopub.execute_input": "2020-05-24T19:35:59.521835Z",
     "iopub.status.busy": "2020-05-24T19:35:59.521350Z",
     "iopub.status.idle": "2020-05-24T19:35:59.706696Z",
     "shell.execute_reply": "2020-05-24T19:35:59.705797Z",
     "shell.execute_reply.started": "2020-05-24T19:35:59.521792Z"
    }
   },
   "outputs": [],
   "source": [
    "func meanError(predictions: [Double], samples: [Double]) -> Double {\n",
    "    (1 / Double(samples.count)) * summedError(predictions: predictions, samples: samples)\n",
    "}"
   ]
  },
  {
   "cell_type": "markdown",
   "metadata": {},
   "source": [
    "The accuracy (percentage correct) can be calculated by:"
   ]
  },
  {
   "cell_type": "code",
   "execution_count": 8,
   "metadata": {
    "execution": {
     "iopub.execute_input": "2020-05-24T19:35:59.713115Z",
     "iopub.status.busy": "2020-05-24T19:35:59.712582Z",
     "iopub.status.idle": "2020-05-24T19:36:00.671587Z",
     "shell.execute_reply": "2020-05-24T19:36:00.670693Z",
     "shell.execute_reply.started": "2020-05-24T19:35:59.712953Z"
    }
   },
   "outputs": [],
   "source": [
    "func predictionAccuracy(predictions: [Double], samples: [Double]) -> Double {\n",
    "    let checkedPredictions = zip(predictions, samples).reduce(into: [Double]()) { checked, outputs in\n",
    "        let prediction = outputs.0\n",
    "        let sample = outputs.1\n",
    "        checked.append(prediction == sample ? 1 : 0)\n",
    "    }\n",
    "    let correct = checkedPredictions.reduce(0, +)\n",
    "    let total = Double(predictions.count)\n",
    "    return correct / total\n",
    "}"
   ]
  },
  {
   "cell_type": "markdown",
   "metadata": {},
   "source": [
    "precision, recall, f-score"
   ]
  },
  {
   "cell_type": "markdown",
   "metadata": {},
   "source": [
    "The training data is the truth table for $A \\lor B$, structured as an array of tuples where the first value is a vector containing the input values and the second value is the correct output value:"
   ]
  },
  {
   "cell_type": "code",
   "execution_count": 9,
   "metadata": {
    "execution": {
     "iopub.execute_input": "2020-05-24T19:36:00.677362Z",
     "iopub.status.busy": "2020-05-24T19:36:00.675775Z",
     "iopub.status.idle": "2020-05-24T19:36:01.329930Z",
     "shell.execute_reply": "2020-05-24T19:36:01.328767Z",
     "shell.execute_reply.started": "2020-05-24T19:36:00.677210Z"
    }
   },
   "outputs": [],
   "source": [
    "let trainingSamples: [([Double], Double)] = [\n",
    "    ([0, 0], 0),\n",
    "    ([0, 1], 1),\n",
    "    ([1, 0], 1),\n",
    "    ([1, 1], 1)\n",
    "]\n",
    "let trainingSampleInputs: [[Double]] = trainingSamples.map { $0.0 }\n",
    "let trainingSampleOutputs: [Double] = trainingSamples.map { $0.1 }"
   ]
  },
  {
   "cell_type": "markdown",
   "metadata": {},
   "source": [
    "Given an untrained Perceptron with an initial set of weights $\\mathbf{w} = [0, 0]$, calculate the predicted outputs for the training inputs:"
   ]
  },
  {
   "cell_type": "code",
   "execution_count": 10,
   "metadata": {
    "execution": {
     "iopub.execute_input": "2020-05-24T19:36:01.333633Z",
     "iopub.status.busy": "2020-05-24T19:36:01.333169Z",
     "iopub.status.idle": "2020-05-24T19:36:01.861787Z",
     "shell.execute_reply": "2020-05-24T19:36:01.847199Z",
     "shell.execute_reply.started": "2020-05-24T19:36:01.333591Z"
    }
   },
   "outputs": [
    {
     "data": {
      "text/plain": [
       "▿ 4 elements\n",
       "  - 0 : 0.0\n",
       "  - 1 : 0.0\n",
       "  - 2 : 0.0\n",
       "  - 3 : 0.0\n"
      ]
     },
     "execution_count": 10,
     "metadata": {},
     "output_type": "execute_result"
    }
   ],
   "source": [
    "predictedOutputs(trainingSampleInputs, weights: [0, 0], activation: unitStep)"
   ]
  },
  {
   "cell_type": "markdown",
   "metadata": {},
   "source": [
    "Calculate the mean error for the untrained Perceptron on the training inputs:"
   ]
  },
  {
   "cell_type": "code",
   "execution_count": 11,
   "metadata": {
    "execution": {
     "iopub.execute_input": "2020-05-24T19:36:01.865068Z",
     "iopub.status.busy": "2020-05-24T19:36:01.864652Z",
     "iopub.status.idle": "2020-05-24T19:36:02.353391Z",
     "shell.execute_reply": "2020-05-24T19:36:02.351688Z",
     "shell.execute_reply.started": "2020-05-24T19:36:01.865024Z"
    }
   },
   "outputs": [
    {
     "data": {
      "text/plain": [
       "0.75\n"
      ]
     },
     "execution_count": 11,
     "metadata": {},
     "output_type": "execute_result"
    }
   ],
   "source": [
    "meanError(\n",
    "    predictions: predictedOutputs(trainingSampleInputs, weights: [0, 0], activation: unitStep), \n",
    "    samples: trainingSampleOutputs\n",
    ")"
   ]
  },
  {
   "cell_type": "markdown",
   "metadata": {},
   "source": [
    "To update the weights during Perceptron training, modify each weight $w_i$ by adding $r E(x_j) x_{j,i}$ to it, where $r$ is the learning rate:"
   ]
  },
  {
   "cell_type": "code",
   "execution_count": 12,
   "metadata": {
    "execution": {
     "iopub.execute_input": "2020-05-24T19:36:02.355229Z",
     "iopub.status.busy": "2020-05-24T19:36:02.354675Z",
     "iopub.status.idle": "2020-05-24T19:36:03.082609Z",
     "shell.execute_reply": "2020-05-24T19:36:03.081649Z",
     "shell.execute_reply.started": "2020-05-24T19:36:02.355080Z"
    }
   },
   "outputs": [],
   "source": [
    "func updatedWeights(_ oldWeights: [Double], error: Double, inputs: [Double], learningRate: Double) -> [Double] {\n",
    "    let weightsDelta = learningRate * error\n",
    "    let newWeights = oldWeights.enumerated().map { $1 + (weightsDelta * inputs[$0]) }\n",
    "    return newWeights\n",
    "}"
   ]
  },
  {
   "cell_type": "code",
   "execution_count": 33,
   "metadata": {
    "execution": {
     "iopub.execute_input": "2020-05-24T19:52:37.236246Z",
     "iopub.status.busy": "2020-05-24T19:52:37.235906Z",
     "iopub.status.idle": "2020-05-24T19:52:39.450918Z",
     "shell.execute_reply": "2020-05-24T19:52:39.449399Z",
     "shell.execute_reply.started": "2020-05-24T19:52:37.236206Z"
    }
   },
   "outputs": [],
   "source": [
    "func trainWeights(startingFrom startingWeights: [Double], samples: [([Double], Double)], learningRate: Double, activation: (Double) -> (Double)) -> [Double] {\n",
    "    let sampledInputs = samples.map { $0.0 }\n",
    "    let sampledOutputs = samples.map { $0.1 }\n",
    "    var currentWeights = startingWeights\n",
    "    var averageError = 1.0\n",
    "    var iterations = 0\n",
    "    var epochs = 0\n",
    "    \n",
    "    print(\"Starting weights: \", startingWeights)\n",
    "    print(\"\\n\")\n",
    "\n",
    "    repeat {\n",
    "        epochs += 1\n",
    "\n",
    "        for (currentInputs, currentOutput) in samples.shuffled() {\n",
    "            iterations += 1\n",
    "            \n",
    "            let prediction = predictedOutput(currentInputs, weights: currentWeights, activation: activation)\n",
    "            let currentError = error(prediction: prediction, sample: currentOutput)\n",
    "            let predictions = predictedOutputs(sampledInputs, weights: currentWeights, activation: activation)\n",
    "            averageError = meanError(predictions: predictions, samples: trainingSampleOutputs)\n",
    "            let accuracy = predictionAccuracy(predictions: predictions, samples: sampledOutputs)\n",
    "            currentWeights = updatedWeights(currentWeights, error: currentError, inputs: currentInputs, learningRate: learningRate)\n",
    "\n",
    "//             print(\"Current weights: \", currentWeights)\n",
    "//             print(\"Current inputs: \", currentInputs)\n",
    "//             print(\"Correct output: \", currentOutput)\n",
    "//             print(\"Predicted output: \", prediction)\n",
    "//             print(\"Current error: \", currentError)\n",
    "//             print(\"Predicted outputs: \", predictions)\n",
    "//             print(\"Mean error: \", averageError)\n",
    "//             print(\"Overall prediction accuracy: \", accuracy)\n",
    "//             print(\"Updated weights: \", currentWeights)\n",
    "//             print(\"\\n\")\n",
    "        }\n",
    "        \n",
    "    } while averageError >= 0.25\n",
    "\n",
    "    let predictions = predictedOutputs(sampledInputs, weights: currentWeights, activation: activation)\n",
    "    averageError = meanError(predictions: predictions, samples: trainingSampleOutputs)\n",
    "    let accuracy = predictionAccuracy(predictions: predictions, samples: sampledOutputs)\n",
    "    \n",
    "    print(\"Epochs: \", epochs)\n",
    "    print(\"Iterations :\", iterations)\n",
    "    print(\"Final weights: \", currentWeights)\n",
    "    print(\"Predicted outputs: \", predictions)\n",
    "    print(\"Mean error: \", averageError)\n",
    "    print(\"Overall prediction accuracy: \", accuracy)\n",
    "\n",
    "    return currentWeights\n",
    "}"
   ]
  },
  {
   "cell_type": "code",
   "execution_count": 14,
   "metadata": {
    "execution": {
     "iopub.execute_input": "2020-05-24T19:36:04.711594Z",
     "iopub.status.busy": "2020-05-24T19:36:04.709191Z",
     "iopub.status.idle": "2020-05-24T19:36:05.140050Z",
     "shell.execute_reply": "2020-05-24T19:36:05.139331Z",
     "shell.execute_reply.started": "2020-05-24T19:36:04.711551Z"
    }
   },
   "outputs": [
    {
     "data": {
      "text/plain": [
       "▿ 4 elements\n",
       "  - 0 : 0.0\n",
       "  - 1 : 0.0\n",
       "  - 2 : 1.0\n",
       "  - 3 : 1.0\n"
      ]
     },
     "execution_count": 14,
     "metadata": {},
     "output_type": "execute_result"
    }
   ],
   "source": [
    "predictedOutputs(trainingSampleInputs, weights: [1, 0], activation: unitStep)"
   ]
  },
  {
   "cell_type": "code",
   "execution_count": 15,
   "metadata": {
    "execution": {
     "iopub.execute_input": "2020-05-24T19:36:05.150491Z",
     "iopub.status.busy": "2020-05-24T19:36:05.146266Z",
     "iopub.status.idle": "2020-05-24T19:36:05.648736Z",
     "shell.execute_reply": "2020-05-24T19:36:05.647123Z",
     "shell.execute_reply.started": "2020-05-24T19:36:05.150447Z"
    }
   },
   "outputs": [
    {
     "data": {
      "text/plain": [
       "0.25\n"
      ]
     },
     "execution_count": 15,
     "metadata": {},
     "output_type": "execute_result"
    }
   ],
   "source": [
    "predictionAccuracy(predictions: predictedOutputs(trainingSampleInputs, weights: [0, 0], activation: unitStep), samples: trainingSampleOutputs)"
   ]
  },
  {
   "cell_type": "code",
   "execution_count": 44,
   "metadata": {
    "execution": {
     "iopub.execute_input": "2020-05-24T19:59:51.979332Z",
     "iopub.status.busy": "2020-05-24T19:59:51.977962Z",
     "iopub.status.idle": "2020-05-24T19:59:52.679967Z",
     "shell.execute_reply": "2020-05-24T19:59:52.676165Z",
     "shell.execute_reply.started": "2020-05-24T19:59:51.979264Z"
    }
   },
   "outputs": [
    {
     "name": "stdout",
     "output_type": "stream",
     "text": [
      "Starting weights:  [1.0, -1.0]\n",
      "\n",
      "\n",
      "Epochs:  2\n",
      "Iterations : 8\n",
      "Final weights:  [1.5, 0.5]\n",
      "Predicted outputs:  [0.0, 1.0, 1.0, 1.0]\n",
      "Mean error:  0.0\n",
      "Overall prediction accuracy:  1.0\n"
     ]
    },
    {
     "data": {
      "text/plain": [
       "▿ 2 elements\n",
       "  - 0 : 1.5\n",
       "  - 1 : 0.5\n"
      ]
     },
     "execution_count": 44,
     "metadata": {},
     "output_type": "execute_result"
    }
   ],
   "source": [
    "trainWeights(startingFrom: [1, -1], samples: trainingSamples, learningRate: 0.5, activation: unitStep)"
   ]
  },
  {
   "cell_type": "code",
   "execution_count": null,
   "metadata": {},
   "outputs": [],
   "source": []
  }
 ],
 "metadata": {
  "kernelspec": {
   "display_name": "Swift",
   "language": "swift",
   "name": "swift"
  },
  "language_info": {
   "file_extension": ".swift",
   "mimetype": "text/x-swift",
   "name": "swift",
   "version": ""
  },
  "widgets": {
   "application/vnd.jupyter.widget-state+json": {
    "state": {},
    "version_major": 2,
    "version_minor": 0
   }
  }
 },
 "nbformat": 4,
 "nbformat_minor": 4
}
