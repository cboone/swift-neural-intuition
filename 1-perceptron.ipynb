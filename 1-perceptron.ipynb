{
 "cells": [
  {
   "cell_type": "markdown",
   "metadata": {},
   "source": [
    "# Training a Perceptron to approximate logical disjunction"
   ]
  },
  {
   "cell_type": "markdown",
   "metadata": {},
   "source": [
    " Following [Wikipedia's summary of the Perceptron learning algorithm](https://en.m.wikipedia.org/wiki/Perceptron#Learning_algorithm). Using Arrays to represent vectors and Doubles for all numbers, for simplicity."
   ]
  },
  {
   "cell_type": "markdown",
   "metadata": {},
   "source": [
    "This network takes features as input vector $\\mathbf{x}_j$, a vector of weights (one per feature) as $\\mathbf{w}$, and an activation function $\\phi$, where $x_{j,i}, w_{i}, \\hat{y}_j \\in \\{0, 1\\}$:\n",
    "\n",
    "$$\\hat{y}_j = \\phi(\\mathbf{w} \\cdot \\mathbf{x}_j)$$"
   ]
  },
  {
   "cell_type": "markdown",
   "metadata": {},
   "source": [
    "The dot product of two vectors is defined by $\\mathbf{a} \\cdot \\mathbf{b} = \\sum _{i=1}^{n} a_{i} b_{i}$:"
   ]
  },
  {
   "cell_type": "code",
   "execution_count": 1,
   "metadata": {
    "execution": {
     "iopub.execute_input": "2020-05-25T02:33:53.504027Z",
     "iopub.status.busy": "2020-05-25T02:33:53.503516Z",
     "iopub.status.idle": "2020-05-25T02:34:00.181963Z",
     "shell.execute_reply": "2020-05-25T02:34:00.181012Z",
     "shell.execute_reply.started": "2020-05-25T02:33:53.503984Z"
    }
   },
   "outputs": [],
   "source": [
    "func dotProduct(_ a: [Double], _ b: [Double]) -> Double {\n",
    "    zip(a, b).map(*).reduce(0, +)\n",
    "}"
   ]
  },
  {
   "cell_type": "markdown",
   "metadata": {},
   "source": [
    "The activation function is the Heaviside or unit step function, which can be defined by $H(x) = \\frac{x + \\left|x\\right|}{2x}$:"
   ]
  },
  {
   "cell_type": "code",
   "execution_count": 2,
   "metadata": {
    "execution": {
     "iopub.execute_input": "2020-05-25T02:34:00.205365Z",
     "iopub.status.busy": "2020-05-25T02:34:00.197609Z",
     "iopub.status.idle": "2020-05-25T02:34:00.993023Z",
     "shell.execute_reply": "2020-05-25T02:34:00.990823Z",
     "shell.execute_reply.started": "2020-05-25T02:34:00.202838Z"
    }
   },
   "outputs": [],
   "source": [
    "func unitStep(_ x: Double) -> Double {\n",
    "    (x > 0) ? 1 : 0\n",
    "}"
   ]
  },
  {
   "cell_type": "markdown",
   "metadata": {},
   "source": [
    "The predicted output of the Perceptron can be calculated by:"
   ]
  },
  {
   "cell_type": "code",
   "execution_count": 3,
   "metadata": {
    "execution": {
     "iopub.execute_input": "2020-05-25T02:34:01.003259Z",
     "iopub.status.busy": "2020-05-25T02:34:01.000313Z",
     "iopub.status.idle": "2020-05-25T02:34:01.163410Z",
     "shell.execute_reply": "2020-05-25T02:34:01.162601Z",
     "shell.execute_reply.started": "2020-05-25T02:34:01.001255Z"
    }
   },
   "outputs": [],
   "source": [
    "func predictedOutput(_ inputs: [Double], weights: [Double], activation: (Double) -> (Double)) -> Double {\n",
    "    activation(dotProduct(weights, inputs))\n",
    "}"
   ]
  },
  {
   "cell_type": "markdown",
   "metadata": {},
   "source": [
    "Or, given an array of input values, by:"
   ]
  },
  {
   "cell_type": "code",
   "execution_count": 4,
   "metadata": {
    "execution": {
     "iopub.execute_input": "2020-05-25T02:34:01.170541Z",
     "iopub.status.busy": "2020-05-25T02:34:01.169103Z",
     "iopub.status.idle": "2020-05-25T02:34:01.785681Z",
     "shell.execute_reply": "2020-05-25T02:34:01.784172Z",
     "shell.execute_reply.started": "2020-05-25T02:34:01.170491Z"
    }
   },
   "outputs": [],
   "source": [
    "func predictedOutputs(_ inputs: [[Double]], weights: [Double], activation: (Double) -> (Double)) -> [Double] {\n",
    "    inputs.map { predictedOutput($0, weights: weights, activation: activation) }\n",
    "}"
   ]
  },
  {
   "cell_type": "markdown",
   "metadata": {},
   "source": [
    "The Perceptron's error function (or cost function, objective function, loss function) is defined by $E(x_i) = y_i - \\hat{y_i}$:"
   ]
  },
  {
   "cell_type": "code",
   "execution_count": 5,
   "metadata": {
    "execution": {
     "iopub.execute_input": "2020-05-25T02:34:01.787012Z",
     "iopub.status.busy": "2020-05-25T02:34:01.786762Z",
     "iopub.status.idle": "2020-05-25T02:34:02.107696Z",
     "shell.execute_reply": "2020-05-25T02:34:02.103913Z",
     "shell.execute_reply.started": "2020-05-25T02:34:01.786974Z"
    }
   },
   "outputs": [],
   "source": [
    "func error(prediction: Double, sample: Double) -> Double {\n",
    "    sample - prediction\n",
    "}"
   ]
  },
  {
   "cell_type": "markdown",
   "metadata": {},
   "source": [
    "The total error is defined by $\\sum_{i=1}^{m}  y_{i} - \\hat{y_{i}}$:"
   ]
  },
  {
   "cell_type": "code",
   "execution_count": 6,
   "metadata": {
    "execution": {
     "iopub.execute_input": "2020-05-25T02:34:02.118836Z",
     "iopub.status.busy": "2020-05-25T02:34:02.115346Z",
     "iopub.status.idle": "2020-05-25T02:34:03.031351Z",
     "shell.execute_reply": "2020-05-25T02:34:03.030431Z",
     "shell.execute_reply.started": "2020-05-25T02:34:02.118784Z"
    }
   },
   "outputs": [],
   "source": [
    "func summedError(predictions: [Double], samples: [Double]) -> Double {\n",
    "    zip(samples, predictions).map(-).reduce(0, +)\n",
    "}"
   ]
  },
  {
   "cell_type": "markdown",
   "metadata": {},
   "source": [
    "The mean error is given by $\\frac{1}{m} \\sum_{i=1}^{m} y_{i} - \\hat{y_{i}}$, where $m$ is the number of samples:"
   ]
  },
  {
   "cell_type": "code",
   "execution_count": 7,
   "metadata": {
    "execution": {
     "iopub.execute_input": "2020-05-25T02:34:03.033092Z",
     "iopub.status.busy": "2020-05-25T02:34:03.032822Z",
     "iopub.status.idle": "2020-05-25T02:34:03.217800Z",
     "shell.execute_reply": "2020-05-25T02:34:03.216946Z",
     "shell.execute_reply.started": "2020-05-25T02:34:03.033057Z"
    }
   },
   "outputs": [],
   "source": [
    "func meanError(predictions: [Double], samples: [Double]) -> Double {\n",
    "    (1 / Double(samples.count)) * summedError(predictions: predictions, samples: samples)\n",
    "}"
   ]
  },
  {
   "cell_type": "markdown",
   "metadata": {},
   "source": [
    "The accuracy (percentage correct) can be calculated by:"
   ]
  },
  {
   "cell_type": "code",
   "execution_count": 8,
   "metadata": {
    "execution": {
     "iopub.execute_input": "2020-05-25T02:34:03.219117Z",
     "iopub.status.busy": "2020-05-25T02:34:03.218928Z",
     "iopub.status.idle": "2020-05-25T02:34:04.182626Z",
     "shell.execute_reply": "2020-05-25T02:34:04.181908Z",
     "shell.execute_reply.started": "2020-05-25T02:34:03.219091Z"
    }
   },
   "outputs": [],
   "source": [
    "func predictionAccuracy(predictions: [Double], samples: [Double]) -> Double {\n",
    "    let checkedPredictions = zip(predictions, samples).reduce(into: [Double]()) { checked, outputs in\n",
    "        let prediction = outputs.0\n",
    "        let sample = outputs.1\n",
    "        checked.append(prediction == sample ? 1 : 0)\n",
    "    }\n",
    "    let correct = checkedPredictions.reduce(0, +)\n",
    "    let total = Double(predictions.count)\n",
    "    return correct / total\n",
    "}"
   ]
  },
  {
   "cell_type": "markdown",
   "metadata": {},
   "source": [
    "The precision (proportion of positive identifications that were actually correct) can be calculated by:"
   ]
  },
  {
   "cell_type": "code",
   "execution_count": 9,
   "metadata": {
    "execution": {
     "iopub.execute_input": "2020-05-25T02:34:04.196798Z",
     "iopub.status.busy": "2020-05-25T02:34:04.190035Z",
     "iopub.status.idle": "2020-05-25T02:34:04.851195Z",
     "shell.execute_reply": "2020-05-25T02:34:04.850504Z",
     "shell.execute_reply.started": "2020-05-25T02:34:04.196729Z"
    }
   },
   "outputs": [],
   "source": [
    "func predictionPrecision(predictions: [Double], samples: [Double]) -> Double {\n",
    "    let checkedPredictions = zip(predictions, samples).reduce(into: [Double]()) { checked, outputs in\n",
    "        switch outputs {\n",
    "        case (1, 1):\n",
    "            checked.append(1)\n",
    "        default:\n",
    "            checked.append(0)\n",
    "        }\n",
    "    }\n",
    "    let truePositives = checkedPredictions.reduce(0, +)\n",
    "    let allPositives = predictions.reduce(0, +)\n",
    "    return truePositives / allPositives\n",
    "}"
   ]
  },
  {
   "cell_type": "markdown",
   "metadata": {},
   "source": [
    "recall, f-score"
   ]
  },
  {
   "cell_type": "markdown",
   "metadata": {},
   "source": [
    "The training data is the truth table for $A \\lor B$, structured as an array of tuples where the first value is a vector containing the input values and the second value is the correct output value:"
   ]
  },
  {
   "cell_type": "code",
   "execution_count": 10,
   "metadata": {
    "execution": {
     "iopub.execute_input": "2020-05-25T02:34:04.852323Z",
     "iopub.status.busy": "2020-05-25T02:34:04.852156Z",
     "iopub.status.idle": "2020-05-25T02:34:05.557800Z",
     "shell.execute_reply": "2020-05-25T02:34:05.556854Z",
     "shell.execute_reply.started": "2020-05-25T02:34:04.852298Z"
    }
   },
   "outputs": [],
   "source": [
    "let trainingSamples: [([Double], Double)] = [\n",
    "    ([0, 0], 0),\n",
    "    ([0, 1], 1),\n",
    "    ([1, 0], 1),\n",
    "    ([1, 1], 1)\n",
    "]\n",
    "let trainingSampleInputs: [[Double]] = trainingSamples.map { $0.0 }\n",
    "let trainingSampleOutputs: [Double] = trainingSamples.map { $0.1 }"
   ]
  },
  {
   "cell_type": "markdown",
   "metadata": {},
   "source": [
    "Given an untrained Perceptron with an initial set of weights $\\mathbf{w} = [0, 0]$, calculate the predicted outputs for the training inputs:"
   ]
  },
  {
   "cell_type": "code",
   "execution_count": 11,
   "metadata": {
    "execution": {
     "iopub.execute_input": "2020-05-25T02:34:05.565933Z",
     "iopub.status.busy": "2020-05-25T02:34:05.562903Z",
     "iopub.status.idle": "2020-05-25T02:34:05.920191Z",
     "shell.execute_reply": "2020-05-25T02:34:05.918204Z",
     "shell.execute_reply.started": "2020-05-25T02:34:05.565890Z"
    }
   },
   "outputs": [
    {
     "data": {
      "text/plain": [
       "▿ 4 elements\n",
       "  - 0 : 0.0\n",
       "  - 1 : 0.0\n",
       "  - 2 : 0.0\n",
       "  - 3 : 0.0\n"
      ]
     },
     "execution_count": 11,
     "metadata": {},
     "output_type": "execute_result"
    }
   ],
   "source": [
    "predictedOutputs(trainingSampleInputs, weights: [0, 0], activation: unitStep)"
   ]
  },
  {
   "cell_type": "markdown",
   "metadata": {},
   "source": [
    "Calculate the mean error for the untrained Perceptron on the training inputs:"
   ]
  },
  {
   "cell_type": "code",
   "execution_count": 12,
   "metadata": {
    "execution": {
     "iopub.execute_input": "2020-05-25T02:34:05.921906Z",
     "iopub.status.busy": "2020-05-25T02:34:05.921652Z",
     "iopub.status.idle": "2020-05-25T02:34:06.301672Z",
     "shell.execute_reply": "2020-05-25T02:34:06.300259Z",
     "shell.execute_reply.started": "2020-05-25T02:34:05.921877Z"
    }
   },
   "outputs": [
    {
     "data": {
      "text/plain": [
       "0.75\n"
      ]
     },
     "execution_count": 12,
     "metadata": {},
     "output_type": "execute_result"
    }
   ],
   "source": [
    "meanError(\n",
    "    predictions: predictedOutputs(trainingSampleInputs, weights: [0, 0], activation: unitStep), \n",
    "    samples: trainingSampleOutputs\n",
    ")"
   ]
  },
  {
   "cell_type": "markdown",
   "metadata": {},
   "source": [
    "To update the weights during Perceptron training, modify each weight $w_i$ by adding $r E(x_j) x_{j,i}$ to it, where $r$ is the learning rate:"
   ]
  },
  {
   "cell_type": "code",
   "execution_count": 13,
   "metadata": {
    "execution": {
     "iopub.execute_input": "2020-05-25T02:34:06.303374Z",
     "iopub.status.busy": "2020-05-25T02:34:06.303085Z",
     "iopub.status.idle": "2020-05-25T02:34:06.894973Z",
     "shell.execute_reply": "2020-05-25T02:34:06.893756Z",
     "shell.execute_reply.started": "2020-05-25T02:34:06.303338Z"
    }
   },
   "outputs": [],
   "source": [
    "func updatedWeights(_ oldWeights: [Double], error: Double, inputs: [Double], learningRate: Double) -> [Double] {\n",
    "    let weightsDelta = learningRate * error\n",
    "    let newWeights = oldWeights.enumerated().map { $1 + (weightsDelta * inputs[$0]) }\n",
    "    return newWeights\n",
    "}"
   ]
  },
  {
   "cell_type": "code",
   "execution_count": 14,
   "metadata": {
    "execution": {
     "iopub.execute_input": "2020-05-25T02:34:06.896260Z",
     "iopub.status.busy": "2020-05-25T02:34:06.896033Z",
     "iopub.status.idle": "2020-05-25T02:34:08.612722Z",
     "shell.execute_reply": "2020-05-25T02:34:08.611098Z",
     "shell.execute_reply.started": "2020-05-25T02:34:06.896234Z"
    }
   },
   "outputs": [],
   "source": [
    "func trainWeights(startingFrom startingWeights: [Double], samples: [([Double], Double)], learningRate: Double, activation: (Double) -> (Double)) -> [Double] {\n",
    "    let sampledInputs = samples.map { $0.0 }\n",
    "    let sampledOutputs = samples.map { $0.1 }\n",
    "    var currentWeights = startingWeights\n",
    "    var predictions = predictedOutputs(sampledInputs, weights: currentWeights, activation: activation)\n",
    "    var averageError = meanError(predictions: predictions, samples: sampledOutputs)\n",
    "    var accuracy = predictionAccuracy(predictions: predictions, samples: sampledOutputs)\n",
    "    var precision = predictionPrecision(predictions: predictions, samples: sampledOutputs)\n",
    "    var iterations = 0\n",
    "    var epochs = 0\n",
    "\n",
    "    print(\"Starting weights: \", startingWeights)\n",
    "    print(\"Predicted outputs: \", predictions)\n",
    "    print(\"Mean error: \", averageError)\n",
    "    print(\"Accuracy: \", accuracy)\n",
    "    print(\"Precision: \", precision)\n",
    "    print(\"\\n\")\n",
    "\n",
    "    repeat {\n",
    "        epochs += 1\n",
    "\n",
    "        for (currentInputs, currentOutput) in samples.shuffled() {\n",
    "            iterations += 1\n",
    "            \n",
    "            let prediction = predictedOutput(currentInputs, weights: currentWeights, activation: activation)\n",
    "            let currentError = error(prediction: prediction, sample: currentOutput)\n",
    "            let predictions = predictedOutputs(sampledInputs, weights: currentWeights, activation: activation)\n",
    "            let averageError = meanError(predictions: predictions, samples: trainingSampleOutputs)\n",
    "            let accuracy = predictionAccuracy(predictions: predictions, samples: sampledOutputs)\n",
    "            currentWeights = updatedWeights(currentWeights, error: currentError, inputs: currentInputs, learningRate: learningRate)\n",
    "\n",
    "//             print(\"Current weights: \", currentWeights)\n",
    "//             print(\"Current inputs: \", currentInputs)\n",
    "//             print(\"Correct output: \", currentOutput)\n",
    "//             print(\"Predicted output: \", prediction)\n",
    "//             print(\"Current error: \", currentError)\n",
    "//             print(\"Predicted outputs: \", predictions)\n",
    "//             print(\"Mean error: \", averageError)\n",
    "//             print(\"Overall prediction accuracy: \", accuracy)\n",
    "//             print(\"Updated weights: \", currentWeights)\n",
    "//             print(\"\\n\")\n",
    "        }\n",
    "    } while averageError >= 0.25\n",
    "\n",
    "    predictions = predictedOutputs(sampledInputs, weights: currentWeights, activation: activation)\n",
    "    averageError = meanError(predictions: predictions, samples: trainingSampleOutputs)\n",
    "    accuracy = predictionAccuracy(predictions: predictions, samples: sampledOutputs)\n",
    "    precision = predictionPrecision(predictions: predictions, samples: sampledOutputs)\n",
    "    \n",
    "    print(\"Epochs: \", epochs)\n",
    "    print(\"Iterations :\", iterations)\n",
    "    print(\"Final weights: \", currentWeights)\n",
    "    print(\"Predicted outputs: \", predictions)\n",
    "    print(\"Mean error: \", averageError)\n",
    "    print(\"Accuracy: \", accuracy)\n",
    "    print(\"Precision: \", precision)\n",
    "\n",
    "    return currentWeights\n",
    "}"
   ]
  },
  {
   "cell_type": "code",
   "execution_count": null,
   "metadata": {
    "execution": {
     "iopub.execute_input": "2020-05-25T02:34:08.614456Z",
     "iopub.status.busy": "2020-05-25T02:34:08.614056Z"
    }
   },
   "outputs": [
    {
     "name": "stdout",
     "output_type": "stream",
     "text": [
      "Starting weights:  [1.0, -1.0]\n",
      "Predicted outputs:  [0.0, 0.0, 1.0, 0.0]\n",
      "Mean error:  0.5\n",
      "Accuracy:  0.5\n",
      "Precision:  1.0\n",
      "\n",
      "\n"
     ]
    }
   ],
   "source": [
    "trainWeights(startingFrom: [1, -1], samples: trainingSamples, learningRate: 0.5, activation: unitStep)"
   ]
  },
  {
   "cell_type": "code",
   "execution_count": null,
   "metadata": {},
   "outputs": [],
   "source": []
  }
 ],
 "metadata": {
  "kernelspec": {
   "display_name": "Swift",
   "language": "swift",
   "name": "swift"
  },
  "language_info": {
   "file_extension": ".swift",
   "mimetype": "text/x-swift",
   "name": "swift",
   "version": ""
  },
  "widgets": {
   "application/vnd.jupyter.widget-state+json": {
    "state": {},
    "version_major": 2,
    "version_minor": 0
   }
  }
 },
 "nbformat": 4,
 "nbformat_minor": 4
}
