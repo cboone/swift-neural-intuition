{
 "cells": [
  {
   "cell_type": "markdown",
   "metadata": {},
   "source": [
    "# 1. Training a Perceptron to perform inclusive disjunction using plain Swift"
   ]
  },
  {
   "cell_type": "markdown",
   "metadata": {},
   "source": [
    "<small>_Following [Wikipedia's summary of the Perceptron learning algorithm](https://en.m.wikipedia.org/wiki/Perceptron#Learning_algorithm). Using Arrays to represent vectors and Doubles for all numbers, for simplicity._</small>"
   ]
  },
  {
   "cell_type": "markdown",
   "metadata": {},
   "source": [
    "This network takes features as input vector $\\mathbf{x}_j$, a vector of weights (one per feature) as $\\mathbf{w}$, and an activation function $\\phi$, where $x_{j,i}, w_{i}, \\hat{y}_j \\in \\{0, 1\\}$:\n",
    "\n",
    "$$\\hat{y}_j = \\phi(\\mathbf{w} \\cdot \\mathbf{x}_j)$$"
   ]
  },
  {
   "cell_type": "markdown",
   "metadata": {},
   "source": [
    "The dot product of two vectors is defined by $\\mathbf{a} \\cdot \\mathbf{b} = \\sum _{i=1}^{n} a_{i} b_{i}$:"
   ]
  },
  {
   "cell_type": "code",
   "execution_count": 1,
   "metadata": {
    "execution": {
     "iopub.execute_input": "2020-05-25T23:45:43.765899Z",
     "iopub.status.busy": "2020-05-25T23:45:43.765486Z",
     "iopub.status.idle": "2020-05-25T23:45:49.076839Z",
     "shell.execute_reply": "2020-05-25T23:45:49.075610Z",
     "shell.execute_reply.started": "2020-05-25T23:45:43.765851Z"
    }
   },
   "outputs": [],
   "source": [
    "func dotProduct(_ a: [Double], _ b: [Double]) -> Double {\n",
    "    zip(a, b).map(*).reduce(0, +)\n",
    "}"
   ]
  },
  {
   "cell_type": "markdown",
   "metadata": {},
   "source": [
    "The activation function is the Heaviside or unit step function, which can be defined by $H(x) = \\frac{x + \\left|x\\right|}{2x}$:"
   ]
  },
  {
   "cell_type": "code",
   "execution_count": 2,
   "metadata": {
    "execution": {
     "iopub.execute_input": "2020-05-25T23:45:49.078547Z",
     "iopub.status.busy": "2020-05-25T23:45:49.078097Z",
     "iopub.status.idle": "2020-05-25T23:45:49.913331Z",
     "shell.execute_reply": "2020-05-25T23:45:49.911622Z",
     "shell.execute_reply.started": "2020-05-25T23:45:49.078510Z"
    }
   },
   "outputs": [],
   "source": [
    "func unitStep(_ x: Double) -> Double {\n",
    "    (x > 0) ? 1 : 0\n",
    "}"
   ]
  },
  {
   "cell_type": "markdown",
   "metadata": {},
   "source": [
    "The predicted output of the Perceptron can be calculated by:"
   ]
  },
  {
   "cell_type": "code",
   "execution_count": 3,
   "metadata": {
    "execution": {
     "iopub.execute_input": "2020-05-25T23:45:49.916184Z",
     "iopub.status.busy": "2020-05-25T23:45:49.915382Z",
     "iopub.status.idle": "2020-05-25T23:45:50.150159Z",
     "shell.execute_reply": "2020-05-25T23:45:50.148407Z",
     "shell.execute_reply.started": "2020-05-25T23:45:49.916066Z"
    }
   },
   "outputs": [],
   "source": [
    "func predictedOutput(_ inputs: [Double], weights: [Double], activation: (Double) -> (Double)) -> Double {\n",
    "    activation(dotProduct(weights, inputs))\n",
    "}"
   ]
  },
  {
   "cell_type": "markdown",
   "metadata": {},
   "source": [
    "Or, given an array of input values, by:"
   ]
  },
  {
   "cell_type": "code",
   "execution_count": 4,
   "metadata": {
    "execution": {
     "iopub.execute_input": "2020-05-25T23:45:50.151801Z",
     "iopub.status.busy": "2020-05-25T23:45:50.151461Z",
     "iopub.status.idle": "2020-05-25T23:45:50.918277Z",
     "shell.execute_reply": "2020-05-25T23:45:50.917092Z",
     "shell.execute_reply.started": "2020-05-25T23:45:50.151635Z"
    }
   },
   "outputs": [],
   "source": [
    "func predictedOutputs(_ inputs: [[Double]], weights: [Double], activation: (Double) -> (Double)) -> [Double] {\n",
    "    inputs.map { predictedOutput($0, weights: weights, activation: activation) }\n",
    "}"
   ]
  },
  {
   "cell_type": "markdown",
   "metadata": {},
   "source": [
    "The Perceptron's error function (or cost function, objective function, loss function) is defined by $E(x_i) = y_i - \\hat{y_i}$:"
   ]
  },
  {
   "cell_type": "code",
   "execution_count": 5,
   "metadata": {
    "execution": {
     "iopub.execute_input": "2020-05-25T23:45:50.920080Z",
     "iopub.status.busy": "2020-05-25T23:45:50.919837Z",
     "iopub.status.idle": "2020-05-25T23:45:51.112397Z",
     "shell.execute_reply": "2020-05-25T23:45:51.110058Z",
     "shell.execute_reply.started": "2020-05-25T23:45:50.920053Z"
    }
   },
   "outputs": [],
   "source": [
    "func error(prediction: Double, sample: Double) -> Double {\n",
    "    sample - prediction\n",
    "}"
   ]
  },
  {
   "cell_type": "markdown",
   "metadata": {},
   "source": [
    "The total error is defined by $\\sum_{i=1}^{m}  y_{i} - \\hat{y_{i}}$:"
   ]
  },
  {
   "cell_type": "code",
   "execution_count": 6,
   "metadata": {
    "execution": {
     "iopub.execute_input": "2020-05-25T23:45:51.114051Z",
     "iopub.status.busy": "2020-05-25T23:45:51.113764Z",
     "iopub.status.idle": "2020-05-25T23:45:51.921174Z",
     "shell.execute_reply": "2020-05-25T23:45:51.919542Z",
     "shell.execute_reply.started": "2020-05-25T23:45:51.114015Z"
    }
   },
   "outputs": [],
   "source": [
    "func summedError(predictions: [Double], samples: [Double]) -> Double {\n",
    "    zip(samples, predictions).map(-).reduce(0, +)\n",
    "}"
   ]
  },
  {
   "cell_type": "markdown",
   "metadata": {},
   "source": [
    "The mean error is given by $\\frac{1}{m} \\sum_{i=1}^{m} y_{i} - \\hat{y_{i}}$, where $m$ is the number of samples:"
   ]
  },
  {
   "cell_type": "code",
   "execution_count": 7,
   "metadata": {
    "execution": {
     "iopub.execute_input": "2020-05-25T23:45:51.922183Z",
     "iopub.status.busy": "2020-05-25T23:45:51.922002Z",
     "iopub.status.idle": "2020-05-25T23:45:52.105775Z",
     "shell.execute_reply": "2020-05-25T23:45:52.104488Z",
     "shell.execute_reply.started": "2020-05-25T23:45:51.922157Z"
    }
   },
   "outputs": [],
   "source": [
    "func meanError(predictions: [Double], samples: [Double]) -> Double {\n",
    "    (1 / Double(samples.count)) * summedError(predictions: predictions, samples: samples)\n",
    "}"
   ]
  },
  {
   "cell_type": "markdown",
   "metadata": {},
   "source": [
    "The accuracy (percentage correct) can be calculated by:"
   ]
  },
  {
   "cell_type": "code",
   "execution_count": 32,
   "metadata": {
    "execution": {
     "iopub.execute_input": "2020-05-26T01:45:51.770620Z",
     "iopub.status.busy": "2020-05-26T01:45:51.770267Z",
     "iopub.status.idle": "2020-05-26T01:45:53.053363Z",
     "shell.execute_reply": "2020-05-26T01:45:53.051857Z",
     "shell.execute_reply.started": "2020-05-26T01:45:51.770578Z"
    }
   },
   "outputs": [],
   "source": [
    "func predictionAccuracy(predictions: [Double], samples: [Double]) -> Double {\n",
    "    let checkedPredictions = zip(predictions, samples).reduce(into: [Double]()) { checked, outputs in\n",
    "        checked.append(outputs.0 == outputs.1 ? 1 : 0)\n",
    "    }\n",
    "    let correct = checkedPredictions.reduce(0, +)\n",
    "    return correct / Double(predictions.count)\n",
    "}"
   ]
  },
  {
   "cell_type": "markdown",
   "metadata": {},
   "source": [
    "The number of true positive predictions can be calculated by:"
   ]
  },
  {
   "cell_type": "code",
   "execution_count": 29,
   "metadata": {
    "execution": {
     "iopub.execute_input": "2020-05-26T01:37:57.689726Z",
     "iopub.status.busy": "2020-05-26T01:37:57.688747Z",
     "iopub.status.idle": "2020-05-26T01:37:58.583829Z",
     "shell.execute_reply": "2020-05-26T01:37:58.582541Z",
     "shell.execute_reply.started": "2020-05-26T01:37:57.689673Z"
    }
   },
   "outputs": [],
   "source": [
    "func truePositivePredictions(predictions: [Double], samples: [Double]) -> Double {\n",
    "    let truePositivePredictions = zip(predictions, samples).reduce(into: [Double]()) { checked, outputs in\n",
    "        outputs == (1, 1) ? checked.append(1) : checked.append(0)\n",
    "    }\n",
    "    return truePositivePredictions.reduce(0, +)\n",
    "}\n"
   ]
  },
  {
   "cell_type": "markdown",
   "metadata": {},
   "source": [
    "The precision (proportion of positive identifications that were actually correct) can be calculated by:"
   ]
  },
  {
   "cell_type": "code",
   "execution_count": 31,
   "metadata": {
    "execution": {
     "iopub.execute_input": "2020-05-26T01:43:15.288332Z",
     "iopub.status.busy": "2020-05-26T01:43:15.287972Z",
     "iopub.status.idle": "2020-05-26T01:43:16.026045Z",
     "shell.execute_reply": "2020-05-26T01:43:16.024696Z",
     "shell.execute_reply.started": "2020-05-26T01:43:15.288290Z"
    }
   },
   "outputs": [],
   "source": [
    "func predictionPrecision(predictions: [Double], samples: [Double]) -> Double {\n",
    "    let truePositives = truePositivePredictions(predictions: predictions, samples: samples)\n",
    "    let allPositives = predictions.reduce(0, +)\n",
    "    return (allPositives > 0) ? (truePositives / allPositives) : 0\n",
    "}"
   ]
  },
  {
   "cell_type": "markdown",
   "metadata": {},
   "source": [
    "The recall (proportion of true positives that were actually correct) can be calculated by:"
   ]
  },
  {
   "cell_type": "code",
   "execution_count": 10,
   "metadata": {
    "execution": {
     "iopub.execute_input": "2020-05-25T23:45:54.102090Z",
     "iopub.status.busy": "2020-05-25T23:45:54.101674Z",
     "iopub.status.idle": "2020-05-25T23:45:54.828857Z",
     "shell.execute_reply": "2020-05-25T23:45:54.826899Z",
     "shell.execute_reply.started": "2020-05-25T23:45:54.102057Z"
    }
   },
   "outputs": [],
   "source": [
    "func predictionRecall(predictions: [Double], samples: [Double]) -> Double {\n",
    "    let truePositives = truePositivePredictions(predictions: predictions, samples: samples)\n",
    "    let actualPositivePredictions = zip(predictions, samples).reduce(into: [Double]()) { checked, outputs in\n",
    "        switch outputs {\n",
    "        case (1, 1), (0, 1):\n",
    "            checked.append(1)\n",
    "        default:\n",
    "            checked.append(0)\n",
    "        }\n",
    "    }\n",
    "    let actualPositives = actualPositivePredictions.reduce(0, +)\n",
    "    return truePositives / actualPositives\n",
    "}"
   ]
  },
  {
   "cell_type": "markdown",
   "metadata": {},
   "source": [
    "The F₁ measure (harmonic mean of precision and recall) can be calculated by:"
   ]
  },
  {
   "cell_type": "code",
   "execution_count": 21,
   "metadata": {
    "execution": {
     "iopub.execute_input": "2020-05-25T23:48:36.890004Z",
     "iopub.status.busy": "2020-05-25T23:48:36.889624Z",
     "iopub.status.idle": "2020-05-25T23:48:37.144443Z",
     "shell.execute_reply": "2020-05-25T23:48:37.141159Z",
     "shell.execute_reply.started": "2020-05-25T23:48:36.889968Z"
    }
   },
   "outputs": [],
   "source": [
    "func predictionF1(predictions: [Double], samples: [Double]) -> Double {\n",
    "    let precision = predictionPrecision(predictions: predictions, samples: samples)\n",
    "    let recall = predictionRecall(predictions: predictions, samples: samples)\n",
    "    return 2 / ((1 / recall) + (1 / precision))\n",
    "}"
   ]
  },
  {
   "cell_type": "markdown",
   "metadata": {},
   "source": [
    "The training data is the truth table for $A \\lor B$, structured as an array of tuples where the first value is a vector containing the input values and the second value is the correct output value:"
   ]
  },
  {
   "cell_type": "code",
   "execution_count": 12,
   "metadata": {
    "execution": {
     "iopub.execute_input": "2020-05-25T23:45:55.127114Z",
     "iopub.status.busy": "2020-05-25T23:45:55.126893Z",
     "iopub.status.idle": "2020-05-25T23:45:55.968241Z",
     "shell.execute_reply": "2020-05-25T23:45:55.967358Z",
     "shell.execute_reply.started": "2020-05-25T23:45:55.127088Z"
    }
   },
   "outputs": [],
   "source": [
    "let trainingSamples: [([Double], Double)] = [\n",
    "    ([0, 0], 0),\n",
    "    ([0, 1], 1),\n",
    "    ([1, 0], 1),\n",
    "    ([1, 1], 1)\n",
    "]\n",
    "let trainingSampleInputs: [[Double]] = trainingSamples.map { $0.0 }\n",
    "let trainingSampleOutputs: [Double] = trainingSamples.map { $0.1 }"
   ]
  },
  {
   "cell_type": "markdown",
   "metadata": {},
   "source": [
    "Given an untrained Perceptron with an initial set of weights $\\mathbf{w} = [0, 0]$, calculate the predicted outputs for the training inputs:"
   ]
  },
  {
   "cell_type": "code",
   "execution_count": 13,
   "metadata": {
    "execution": {
     "iopub.execute_input": "2020-05-25T23:45:55.969515Z",
     "iopub.status.busy": "2020-05-25T23:45:55.969287Z",
     "iopub.status.idle": "2020-05-25T23:45:56.369856Z",
     "shell.execute_reply": "2020-05-25T23:45:56.367813Z",
     "shell.execute_reply.started": "2020-05-25T23:45:55.969486Z"
    }
   },
   "outputs": [
    {
     "data": {
      "text/plain": [
       "▿ 4 elements\n",
       "  - 0 : 0.0\n",
       "  - 1 : 0.0\n",
       "  - 2 : 0.0\n",
       "  - 3 : 0.0\n"
      ]
     },
     "execution_count": 13,
     "metadata": {},
     "output_type": "execute_result"
    }
   ],
   "source": [
    "predictedOutputs(trainingSampleInputs, weights: [0, 0], activation: unitStep)"
   ]
  },
  {
   "cell_type": "markdown",
   "metadata": {},
   "source": [
    "Calculate the mean error for the untrained Perceptron on the training inputs:"
   ]
  },
  {
   "cell_type": "code",
   "execution_count": 14,
   "metadata": {
    "execution": {
     "iopub.execute_input": "2020-05-25T23:45:56.373949Z",
     "iopub.status.busy": "2020-05-25T23:45:56.373606Z",
     "iopub.status.idle": "2020-05-25T23:45:56.842496Z",
     "shell.execute_reply": "2020-05-25T23:45:56.839189Z",
     "shell.execute_reply.started": "2020-05-25T23:45:56.373908Z"
    }
   },
   "outputs": [
    {
     "data": {
      "text/plain": [
       "0.75\n"
      ]
     },
     "execution_count": 14,
     "metadata": {},
     "output_type": "execute_result"
    }
   ],
   "source": [
    "meanError(\n",
    "    predictions: predictedOutputs(trainingSampleInputs, weights: [0, 0], activation: unitStep), \n",
    "    samples: trainingSampleOutputs\n",
    ")"
   ]
  },
  {
   "cell_type": "markdown",
   "metadata": {},
   "source": [
    "To update the weights during Perceptron training, modify each weight $w_i$ by adding $r E(x_j) x_{j,i}$ to it, where $r$ is the learning rate:"
   ]
  },
  {
   "cell_type": "code",
   "execution_count": 15,
   "metadata": {
    "execution": {
     "iopub.execute_input": "2020-05-25T23:45:56.845395Z",
     "iopub.status.busy": "2020-05-25T23:45:56.844934Z",
     "iopub.status.idle": "2020-05-25T23:45:57.470433Z",
     "shell.execute_reply": "2020-05-25T23:45:57.469161Z",
     "shell.execute_reply.started": "2020-05-25T23:45:56.845336Z"
    }
   },
   "outputs": [],
   "source": [
    "func updatedWeights(_ oldWeights: [Double], error: Double, inputs: [Double], learningRate: Double) -> [Double] {\n",
    "    let weightsDelta = learningRate * error\n",
    "    let newWeights = oldWeights.enumerated().map { $1 + (weightsDelta * inputs[$0]) }\n",
    "    return newWeights\n",
    "}"
   ]
  },
  {
   "cell_type": "code",
   "execution_count": 22,
   "metadata": {
    "execution": {
     "iopub.execute_input": "2020-05-25T23:48:39.589490Z",
     "iopub.status.busy": "2020-05-25T23:48:39.589061Z",
     "iopub.status.idle": "2020-05-25T23:48:41.704847Z",
     "shell.execute_reply": "2020-05-25T23:48:41.703641Z",
     "shell.execute_reply.started": "2020-05-25T23:48:39.589446Z"
    }
   },
   "outputs": [],
   "source": [
    "func trainWeights(startingFrom startingWeights: [Double], samples: [([Double], Double)], learningRate: Double, activation: (Double) -> (Double)) -> [Double] {\n",
    "    let sampledInputs = samples.map { $0.0 }\n",
    "    let sampledOutputs = samples.map { $0.1 }\n",
    "    var currentWeights = startingWeights\n",
    "    var predictions = predictedOutputs(sampledInputs, weights: currentWeights, activation: activation)\n",
    "    var averageError = meanError(predictions: predictions, samples: sampledOutputs)\n",
    "    var accuracy = predictionAccuracy(predictions: predictions, samples: sampledOutputs)\n",
    "    var precision = predictionPrecision(predictions: predictions, samples: sampledOutputs)\n",
    "    var recall = predictionRecall(predictions: predictions, samples: sampledOutputs)\n",
    "    var f1 = predictionF1(predictions: predictions, samples: sampledOutputs)\n",
    "    var iterations = 0\n",
    "    var epochs = 0\n",
    "\n",
    "    print(\"Starting weights:\", startingWeights)\n",
    "    print(\"Predicted outputs:\", predictions)\n",
    "    print(\"Mean error:\", averageError)\n",
    "    print(\"Accuracy:\", accuracy)\n",
    "    print(\"Precision:\", precision)\n",
    "    print(\"Recall:\", recall)\n",
    "    print(\"F1:\", f1)\n",
    "    print(\"\\n\")\n",
    "\n",
    "    while averageError >= 0.25 {\n",
    "        epochs += 1\n",
    "        \n",
    "        for (currentInputs, currentOutput) in samples.shuffled() {\n",
    "            iterations += 1\n",
    "            let predictions = predictedOutputs(sampledInputs, weights: currentWeights, activation: activation)\n",
    "            averageError = meanError(predictions: predictions, samples: sampledOutputs)\n",
    "            let prediction = predictedOutput(currentInputs, weights: currentWeights, activation: activation)\n",
    "            let currentError = error(prediction: prediction, sample: currentOutput)\n",
    "            currentWeights = updatedWeights(currentWeights, error: currentError, inputs: currentInputs, learningRate: learningRate)\n",
    "        }\n",
    "    }\n",
    "\n",
    "    predictions = predictedOutputs(sampledInputs, weights: currentWeights, activation: activation)\n",
    "    averageError = meanError(predictions: predictions, samples: sampledOutputs)\n",
    "    accuracy = predictionAccuracy(predictions: predictions, samples: sampledOutputs)\n",
    "    precision = predictionPrecision(predictions: predictions, samples: sampledOutputs)\n",
    "    recall = predictionRecall(predictions: predictions, samples: sampledOutputs)\n",
    "    f1 = predictionF1(predictions: predictions, samples: sampledOutputs)\n",
    "\n",
    "    print(\"Epochs:\", epochs)\n",
    "    print(\"Iterations:\", iterations)\n",
    "    print(\"Final weights:\", currentWeights)\n",
    "    print(\"Predicted outputs:\", predictions)\n",
    "    print(\"Mean error:\", averageError)\n",
    "    print(\"Accuracy:\", accuracy)\n",
    "    print(\"Precision:\", precision)\n",
    "    print(\"Recall:\", recall)\n",
    "    print(\"F1:\", f1)\n",
    "\n",
    "    return currentWeights\n",
    "}"
   ]
  },
  {
   "cell_type": "code",
   "execution_count": 23,
   "metadata": {
    "execution": {
     "iopub.execute_input": "2020-05-25T23:48:41.706609Z",
     "iopub.status.busy": "2020-05-25T23:48:41.706226Z",
     "iopub.status.idle": "2020-05-25T23:48:42.334133Z",
     "shell.execute_reply": "2020-05-25T23:48:42.332781Z",
     "shell.execute_reply.started": "2020-05-25T23:48:41.706572Z"
    }
   },
   "outputs": [
    {
     "name": "stdout",
     "output_type": "stream",
     "text": [
      "Starting weights: [0.0, 0.0]\n",
      "Predicted outputs: [0.0, 0.0, 0.0, 0.0]\n",
      "Mean error: 0.75\n",
      "Accuracy: 0.25\n",
      "Precision: 0.0\n",
      "Recall: 0.0\n",
      "F1: 0.0\n",
      "\n",
      "\n",
      "Epochs: 1\n",
      "Iterations: 4\n",
      "Final weights: [1.0, 1.0]\n",
      "Predicted outputs: [0.0, 1.0, 1.0, 1.0]\n",
      "Mean error: 0.0\n",
      "Accuracy: 1.0\n",
      "Precision: 1.0\n",
      "Recall: 1.0\n",
      "F1: 1.0\n"
     ]
    },
    {
     "data": {
      "text/plain": [
       "▿ 2 elements\n",
       "  - 0 : 1.0\n",
       "  - 1 : 1.0\n"
      ]
     },
     "execution_count": 23,
     "metadata": {},
     "output_type": "execute_result"
    }
   ],
   "source": [
    "trainWeights(startingFrom: [0, 0], samples: trainingSamples, learningRate: 1, activation: unitStep)"
   ]
  },
  {
   "cell_type": "code",
   "execution_count": null,
   "metadata": {},
   "outputs": [],
   "source": []
  }
 ],
 "metadata": {
  "kernelspec": {
   "display_name": "Swift",
   "language": "swift",
   "name": "swift"
  },
  "language_info": {
   "file_extension": ".swift",
   "mimetype": "text/x-swift",
   "name": "swift",
   "version": ""
  },
  "widgets": {
   "application/vnd.jupyter.widget-state+json": {
    "state": {},
    "version_major": 2,
    "version_minor": 0
   }
  }
 },
 "nbformat": 4,
 "nbformat_minor": 4
}
