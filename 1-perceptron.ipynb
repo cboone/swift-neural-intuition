{
 "cells": [
  {
   "cell_type": "markdown",
   "metadata": {},
   "source": [
    "# Training a Perceptron to approximate logical disjunction"
   ]
  },
  {
   "cell_type": "markdown",
   "metadata": {},
   "source": [
    " Following [Wikipedia's summary of the Perceptron learning algorithm](https://en.m.wikipedia.org/wiki/Perceptron#Learning_algorithm). Using Arrays to represent vectors and Doubles for all numbers, for simplicity."
   ]
  },
  {
   "cell_type": "markdown",
   "metadata": {},
   "source": [
    "This network takes features as input vector $\\mathbf{x}_j$, a vector of weights (one per feature) as $\\mathbf{w}$, and an activation function $\\phi$, where $x_{j,i}, w_{i}, \\hat{y}_j \\in \\{0, 1\\}$:\n",
    "\n",
    "$$\\hat{y}_j = \\phi(\\mathbf{w} \\cdot \\mathbf{x}_j)$$"
   ]
  },
  {
   "cell_type": "markdown",
   "metadata": {},
   "source": [
    "The dot product of two vectors is defined by $\\mathbf{a} \\cdot \\mathbf{b} = \\sum _{i=1}^{n} a_{i} b_{i}$:"
   ]
  },
  {
   "cell_type": "code",
   "execution_count": 1,
   "metadata": {
    "execution": {
     "iopub.execute_input": "2020-05-25T19:41:01.169562Z",
     "iopub.status.busy": "2020-05-25T19:41:01.163281Z",
     "iopub.status.idle": "2020-05-25T19:41:10.654146Z",
     "shell.execute_reply": "2020-05-25T19:41:10.653042Z",
     "shell.execute_reply.started": "2020-05-25T19:41:01.163812Z"
    }
   },
   "outputs": [],
   "source": [
    "func dotProduct(_ a: [Double], _ b: [Double]) -> Double {\n",
    "    zip(a, b).map(*).reduce(0, +)\n",
    "}"
   ]
  },
  {
   "cell_type": "markdown",
   "metadata": {},
   "source": [
    "The activation function is the Heaviside or unit step function, which can be defined by $H(x) = \\frac{x + \\left|x\\right|}{2x}$:"
   ]
  },
  {
   "cell_type": "code",
   "execution_count": 2,
   "metadata": {
    "execution": {
     "iopub.execute_input": "2020-05-25T19:41:10.665873Z",
     "iopub.status.busy": "2020-05-25T19:41:10.662009Z",
     "iopub.status.idle": "2020-05-25T19:41:11.739353Z",
     "shell.execute_reply": "2020-05-25T19:41:11.738733Z",
     "shell.execute_reply.started": "2020-05-25T19:41:10.662596Z"
    }
   },
   "outputs": [],
   "source": [
    "func unitStep(_ x: Double) -> Double {\n",
    "    (x > 0) ? 1 : 0\n",
    "}"
   ]
  },
  {
   "cell_type": "markdown",
   "metadata": {},
   "source": [
    "The predicted output of the Perceptron can be calculated by:"
   ]
  },
  {
   "cell_type": "code",
   "execution_count": 3,
   "metadata": {
    "execution": {
     "iopub.execute_input": "2020-05-25T19:41:11.740718Z",
     "iopub.status.busy": "2020-05-25T19:41:11.740542Z",
     "iopub.status.idle": "2020-05-25T19:41:12.036333Z",
     "shell.execute_reply": "2020-05-25T19:41:12.034308Z",
     "shell.execute_reply.started": "2020-05-25T19:41:11.740692Z"
    }
   },
   "outputs": [],
   "source": [
    "func predictedOutput(_ inputs: [Double], weights: [Double], activation: (Double) -> (Double)) -> Double {\n",
    "    activation(dotProduct(weights, inputs))\n",
    "}"
   ]
  },
  {
   "cell_type": "markdown",
   "metadata": {},
   "source": [
    "Or, given an array of input values, by:"
   ]
  },
  {
   "cell_type": "code",
   "execution_count": 4,
   "metadata": {
    "execution": {
     "iopub.execute_input": "2020-05-25T19:41:12.042113Z",
     "iopub.status.busy": "2020-05-25T19:41:12.041678Z",
     "iopub.status.idle": "2020-05-25T19:41:12.978535Z",
     "shell.execute_reply": "2020-05-25T19:41:12.977897Z",
     "shell.execute_reply.started": "2020-05-25T19:41:12.042071Z"
    }
   },
   "outputs": [],
   "source": [
    "func predictedOutputs(_ inputs: [[Double]], weights: [Double], activation: (Double) -> (Double)) -> [Double] {\n",
    "    inputs.map { predictedOutput($0, weights: weights, activation: activation) }\n",
    "}"
   ]
  },
  {
   "cell_type": "markdown",
   "metadata": {},
   "source": [
    "The Perceptron's error function (or cost function, objective function, loss function) is defined by $E(x_i) = y_i - \\hat{y_i}$:"
   ]
  },
  {
   "cell_type": "code",
   "execution_count": 5,
   "metadata": {
    "execution": {
     "iopub.execute_input": "2020-05-25T19:41:12.979497Z",
     "iopub.status.busy": "2020-05-25T19:41:12.979324Z",
     "iopub.status.idle": "2020-05-25T19:41:13.293532Z",
     "shell.execute_reply": "2020-05-25T19:41:13.292896Z",
     "shell.execute_reply.started": "2020-05-25T19:41:12.979471Z"
    }
   },
   "outputs": [],
   "source": [
    "func error(prediction: Double, sample: Double) -> Double {\n",
    "    sample - prediction\n",
    "}"
   ]
  },
  {
   "cell_type": "markdown",
   "metadata": {},
   "source": [
    "The total error is defined by $\\sum_{i=1}^{m}  y_{i} - \\hat{y_{i}}$:"
   ]
  },
  {
   "cell_type": "code",
   "execution_count": 6,
   "metadata": {
    "execution": {
     "iopub.execute_input": "2020-05-25T19:41:13.295463Z",
     "iopub.status.busy": "2020-05-25T19:41:13.295180Z",
     "iopub.status.idle": "2020-05-25T19:41:14.443986Z",
     "shell.execute_reply": "2020-05-25T19:41:14.442917Z",
     "shell.execute_reply.started": "2020-05-25T19:41:13.295427Z"
    }
   },
   "outputs": [],
   "source": [
    "func summedError(predictions: [Double], samples: [Double]) -> Double {\n",
    "    zip(samples, predictions).map(-).reduce(0, +)\n",
    "}"
   ]
  },
  {
   "cell_type": "markdown",
   "metadata": {},
   "source": [
    "The mean error is given by $\\frac{1}{m} \\sum_{i=1}^{m} y_{i} - \\hat{y_{i}}$, where $m$ is the number of samples:"
   ]
  },
  {
   "cell_type": "code",
   "execution_count": 7,
   "metadata": {
    "execution": {
     "iopub.execute_input": "2020-05-25T19:41:14.447871Z",
     "iopub.status.busy": "2020-05-25T19:41:14.447510Z",
     "iopub.status.idle": "2020-05-25T19:41:14.761007Z",
     "shell.execute_reply": "2020-05-25T19:41:14.759675Z",
     "shell.execute_reply.started": "2020-05-25T19:41:14.447842Z"
    }
   },
   "outputs": [],
   "source": [
    "func meanError(predictions: [Double], samples: [Double]) -> Double {\n",
    "    (1 / Double(samples.count)) * summedError(predictions: predictions, samples: samples)\n",
    "}"
   ]
  },
  {
   "cell_type": "markdown",
   "metadata": {},
   "source": [
    "The accuracy (percentage correct) can be calculated by:"
   ]
  },
  {
   "cell_type": "code",
   "execution_count": 8,
   "metadata": {
    "execution": {
     "iopub.execute_input": "2020-05-25T19:41:14.763899Z",
     "iopub.status.busy": "2020-05-25T19:41:14.763247Z",
     "iopub.status.idle": "2020-05-25T19:41:16.156757Z",
     "shell.execute_reply": "2020-05-25T19:41:16.155860Z",
     "shell.execute_reply.started": "2020-05-25T19:41:14.763868Z"
    }
   },
   "outputs": [],
   "source": [
    "func predictionAccuracy(predictions: [Double], samples: [Double]) -> Double {\n",
    "    let checkedPredictions = zip(predictions, samples).reduce(into: [Double]()) { checked, outputs in\n",
    "        let prediction = outputs.0\n",
    "        let sample = outputs.1\n",
    "        checked.append(prediction == sample ? 1 : 0)\n",
    "    }\n",
    "    let correct = checkedPredictions.reduce(0, +)\n",
    "    let total = Double(predictions.count)\n",
    "    return correct / total\n",
    "}"
   ]
  },
  {
   "cell_type": "markdown",
   "metadata": {},
   "source": [
    "The precision (proportion of positive identifications that were actually correct) can be calculated by:"
   ]
  },
  {
   "cell_type": "code",
   "execution_count": 9,
   "metadata": {
    "execution": {
     "iopub.execute_input": "2020-05-25T19:41:16.159205Z",
     "iopub.status.busy": "2020-05-25T19:41:16.158937Z",
     "iopub.status.idle": "2020-05-25T19:41:17.790799Z",
     "shell.execute_reply": "2020-05-25T19:41:17.789234Z",
     "shell.execute_reply.started": "2020-05-25T19:41:16.159178Z"
    }
   },
   "outputs": [],
   "source": [
    "func predictionPrecision(predictions: [Double], samples: [Double]) -> Double {\n",
    "    let checkedPredictions = zip(predictions, samples).reduce(into: [Double]()) { checked, outputs in\n",
    "        switch outputs {\n",
    "        case (1, 1):\n",
    "            checked.append(1)\n",
    "        default:\n",
    "            checked.append(0)\n",
    "        }\n",
    "    }\n",
    "    let truePositives = checkedPredictions.reduce(0, +)\n",
    "    let allPositives = predictions.reduce(0, +)\n",
    "    return (allPositives > 0) ? (truePositives / allPositives) : 0\n",
    "}"
   ]
  },
  {
   "cell_type": "markdown",
   "metadata": {},
   "source": [
    "The recall (proportion of true positives that were actually correct) can be calculated by:"
   ]
  },
  {
   "cell_type": "code",
   "execution_count": 10,
   "metadata": {
    "execution": {
     "iopub.execute_input": "2020-05-25T19:41:17.792729Z",
     "iopub.status.busy": "2020-05-25T19:41:17.792409Z",
     "iopub.status.idle": "2020-05-25T19:41:18.993722Z",
     "shell.execute_reply": "2020-05-25T19:41:18.993040Z",
     "shell.execute_reply.started": "2020-05-25T19:41:17.792700Z"
    }
   },
   "outputs": [],
   "source": [
    "func predictionRecall(predictions: [Double], samples: [Double]) -> Double {\n",
    "    let truePositivePredictions = zip(predictions, samples).reduce(into: [Double]()) { checked, outputs in\n",
    "        switch outputs {\n",
    "        case (1, 1):\n",
    "            checked.append(1)\n",
    "        default:\n",
    "            checked.append(0)\n",
    "        }\n",
    "    }\n",
    "    let truePositives = truePositivePredictions.reduce(0, +)\n",
    "    let actualPositivePredictions = zip(predictions, samples).reduce(into: [Double]()) { checked, outputs in\n",
    "        switch outputs {\n",
    "        case (1, 1), (0, 1):\n",
    "            checked.append(1)\n",
    "        default:\n",
    "            checked.append(0)\n",
    "        }\n",
    "    }\n",
    "    let actualPositives = actualPositivePredictions.reduce(0, +)\n",
    "    return truePositives / actualPositives\n",
    "}"
   ]
  },
  {
   "cell_type": "markdown",
   "metadata": {},
   "source": [
    "f-score"
   ]
  },
  {
   "cell_type": "markdown",
   "metadata": {},
   "source": [
    "The training data is the truth table for $A \\lor B$, structured as an array of tuples where the first value is a vector containing the input values and the second value is the correct output value:"
   ]
  },
  {
   "cell_type": "code",
   "execution_count": 11,
   "metadata": {
    "execution": {
     "iopub.execute_input": "2020-05-25T19:41:18.994592Z",
     "iopub.status.busy": "2020-05-25T19:41:18.994426Z",
     "iopub.status.idle": "2020-05-25T19:41:20.099561Z",
     "shell.execute_reply": "2020-05-25T19:41:20.098472Z",
     "shell.execute_reply.started": "2020-05-25T19:41:18.994567Z"
    }
   },
   "outputs": [],
   "source": [
    "let trainingSamples: [([Double], Double)] = [\n",
    "    ([0, 0], 0),\n",
    "    ([0, 1], 1),\n",
    "    ([1, 0], 1),\n",
    "    ([1, 1], 1)\n",
    "]\n",
    "let trainingSampleInputs: [[Double]] = trainingSamples.map { $0.0 }\n",
    "let trainingSampleOutputs: [Double] = trainingSamples.map { $0.1 }"
   ]
  },
  {
   "cell_type": "markdown",
   "metadata": {},
   "source": [
    "Given an untrained Perceptron with an initial set of weights $\\mathbf{w} = [0, 0]$, calculate the predicted outputs for the training inputs:"
   ]
  },
  {
   "cell_type": "code",
   "execution_count": 12,
   "metadata": {
    "execution": {
     "iopub.execute_input": "2020-05-25T19:41:20.101028Z",
     "iopub.status.busy": "2020-05-25T19:41:20.100651Z",
     "iopub.status.idle": "2020-05-25T19:41:20.647190Z",
     "shell.execute_reply": "2020-05-25T19:41:20.646030Z",
     "shell.execute_reply.started": "2020-05-25T19:41:20.100990Z"
    }
   },
   "outputs": [
    {
     "data": {
      "text/plain": [
       "▿ 4 elements\n",
       "  - 0 : 0.0\n",
       "  - 1 : 0.0\n",
       "  - 2 : 0.0\n",
       "  - 3 : 0.0\n"
      ]
     },
     "execution_count": 12,
     "metadata": {},
     "output_type": "execute_result"
    }
   ],
   "source": [
    "predictedOutputs(trainingSampleInputs, weights: [0, 0], activation: unitStep)"
   ]
  },
  {
   "cell_type": "markdown",
   "metadata": {},
   "source": [
    "Calculate the mean error for the untrained Perceptron on the training inputs:"
   ]
  },
  {
   "cell_type": "code",
   "execution_count": 13,
   "metadata": {
    "execution": {
     "iopub.execute_input": "2020-05-25T19:41:20.655547Z",
     "iopub.status.busy": "2020-05-25T19:41:20.651451Z",
     "iopub.status.idle": "2020-05-25T19:41:21.347509Z",
     "shell.execute_reply": "2020-05-25T19:41:21.345265Z",
     "shell.execute_reply.started": "2020-05-25T19:41:20.655488Z"
    }
   },
   "outputs": [
    {
     "data": {
      "text/plain": [
       "0.75\n"
      ]
     },
     "execution_count": 13,
     "metadata": {},
     "output_type": "execute_result"
    }
   ],
   "source": [
    "meanError(\n",
    "    predictions: predictedOutputs(trainingSampleInputs, weights: [0, 0], activation: unitStep), \n",
    "    samples: trainingSampleOutputs\n",
    ")"
   ]
  },
  {
   "cell_type": "markdown",
   "metadata": {},
   "source": [
    "To update the weights during Perceptron training, modify each weight $w_i$ by adding $r E(x_j) x_{j,i}$ to it, where $r$ is the learning rate:"
   ]
  },
  {
   "cell_type": "code",
   "execution_count": 14,
   "metadata": {
    "execution": {
     "iopub.execute_input": "2020-05-25T19:41:21.358719Z",
     "iopub.status.busy": "2020-05-25T19:41:21.353753Z",
     "iopub.status.idle": "2020-05-25T19:41:22.275841Z",
     "shell.execute_reply": "2020-05-25T19:41:22.274893Z",
     "shell.execute_reply.started": "2020-05-25T19:41:21.358568Z"
    }
   },
   "outputs": [],
   "source": [
    "func updatedWeights(_ oldWeights: [Double], error: Double, inputs: [Double], learningRate: Double) -> [Double] {\n",
    "    let weightsDelta = learningRate * error\n",
    "    let newWeights = oldWeights.enumerated().map { $1 + (weightsDelta * inputs[$0]) }\n",
    "    return newWeights\n",
    "}"
   ]
  },
  {
   "cell_type": "code",
   "execution_count": 15,
   "metadata": {
    "execution": {
     "iopub.execute_input": "2020-05-25T19:41:22.277241Z",
     "iopub.status.busy": "2020-05-25T19:41:22.276911Z",
     "iopub.status.idle": "2020-05-25T19:41:24.965453Z",
     "shell.execute_reply": "2020-05-25T19:41:24.964425Z",
     "shell.execute_reply.started": "2020-05-25T19:41:22.277202Z"
    }
   },
   "outputs": [],
   "source": [
    "func trainWeights(startingFrom startingWeights: [Double], samples: [([Double], Double)], learningRate: Double, activation: (Double) -> (Double)) -> [Double] {\n",
    "    let sampledInputs = samples.map { $0.0 }\n",
    "    let sampledOutputs = samples.map { $0.1 }\n",
    "    var currentWeights = startingWeights\n",
    "    var predictions = predictedOutputs(sampledInputs, weights: currentWeights, activation: activation)\n",
    "    var averageError = meanError(predictions: predictions, samples: sampledOutputs)\n",
    "    var accuracy = predictionAccuracy(predictions: predictions, samples: sampledOutputs)\n",
    "    var precision = predictionPrecision(predictions: predictions, samples: sampledOutputs)\n",
    "    var recall = predictionRecall(predictions: predictions, samples: sampledOutputs)\n",
    "    var iterations = 0\n",
    "    var epochs = 0\n",
    "\n",
    "    print(\"Starting weights:\", startingWeights)\n",
    "    print(\"Predicted outputs:\", predictions)\n",
    "    print(\"Mean error:\", averageError)\n",
    "    print(\"Accuracy:\", accuracy)\n",
    "    print(\"Precision:\", precision)\n",
    "    print(\"Recall:\", recall)\n",
    "    print(\"\\n\")\n",
    "\n",
    "    while averageError >= 0.25 {\n",
    "        epochs += 1\n",
    "        \n",
    "        for (currentInputs, currentOutput) in samples.shuffled() {\n",
    "            iterations += 1\n",
    "            predictions = predictedOutputs(sampledInputs, weights: currentWeights, activation: activation)\n",
    "            averageError = meanError(predictions: predictions, samples: sampledOutputs)\n",
    "            let prediction = predictedOutput(currentInputs, weights: currentWeights, activation: activation)\n",
    "            let currentError = error(prediction: prediction, sample: currentOutput)\n",
    "            currentWeights = updatedWeights(currentWeights, error: currentError, inputs: currentInputs, learningRate: learningRate)\n",
    "        }\n",
    "    }\n",
    "\n",
    "    predictions = predictedOutputs(sampledInputs, weights: currentWeights, activation: activation)\n",
    "    averageError = meanError(predictions: predictions, samples: sampledOutputs)\n",
    "    accuracy = predictionAccuracy(predictions: predictions, samples: sampledOutputs)\n",
    "    precision = predictionPrecision(predictions: predictions, samples: sampledOutputs)\n",
    "    recall = predictionRecall(predictions: predictions, samples: sampledOutputs)\n",
    "\n",
    "    print(\"Epochs:\", epochs)\n",
    "    print(\"Iterations:\", iterations)\n",
    "    print(\"Final weights:\", currentWeights)\n",
    "    print(\"Predicted outputs:\", predictions)\n",
    "    print(\"Mean error:\", averageError)\n",
    "    print(\"Accuracy:\", accuracy)\n",
    "    print(\"Precision:\", precision)\n",
    "    print(\"Recall:\", recall)\n",
    "\n",
    "    return currentWeights\n",
    "}"
   ]
  },
  {
   "cell_type": "code",
   "execution_count": 16,
   "metadata": {
    "execution": {
     "iopub.execute_input": "2020-05-25T19:41:24.969469Z",
     "iopub.status.busy": "2020-05-25T19:41:24.969191Z",
     "iopub.status.idle": "2020-05-25T19:41:25.619445Z",
     "shell.execute_reply": "2020-05-25T19:41:25.617230Z",
     "shell.execute_reply.started": "2020-05-25T19:41:24.969441Z"
    }
   },
   "outputs": [
    {
     "name": "stdout",
     "output_type": "stream",
     "text": [
      "Starting weights: [0.0, 0.0]\n",
      "Predicted outputs: [0.0, 0.0, 0.0, 0.0]\n",
      "Mean error: 0.75\n",
      "Accuracy: 0.25\n",
      "Precision: 0.0\n",
      "Recall: 0.0\n",
      "\n",
      "\n",
      "Epochs: 1\n",
      "Iterations: 4\n",
      "Final weights: [1.0, 1.0]\n",
      "Predicted outputs: [0.0, 1.0, 1.0, 1.0]\n",
      "Mean error: 0.0\n",
      "Accuracy: 1.0\n",
      "Precision: 1.0\n",
      "Recall: 1.0\n"
     ]
    },
    {
     "data": {
      "text/plain": [
       "▿ 2 elements\n",
       "  - 0 : 1.0\n",
       "  - 1 : 1.0\n"
      ]
     },
     "execution_count": 16,
     "metadata": {},
     "output_type": "execute_result"
    }
   ],
   "source": [
    "trainWeights(startingFrom: [0, 0], samples: trainingSamples, learningRate: 1, activation: unitStep)"
   ]
  }
 ],
 "metadata": {
  "kernelspec": {
   "display_name": "Swift",
   "language": "swift",
   "name": "swift"
  },
  "language_info": {
   "file_extension": ".swift",
   "mimetype": "text/x-swift",
   "name": "swift",
   "version": ""
  },
  "widgets": {
   "application/vnd.jupyter.widget-state+json": {
    "state": {},
    "version_major": 2,
    "version_minor": 0
   }
  }
 },
 "nbformat": 4,
 "nbformat_minor": 4
}
